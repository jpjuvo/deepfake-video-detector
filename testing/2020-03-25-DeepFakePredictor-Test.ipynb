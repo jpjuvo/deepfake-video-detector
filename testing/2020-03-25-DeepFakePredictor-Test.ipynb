{
 "cells": [
  {
   "cell_type": "code",
   "execution_count": 1,
   "metadata": {},
   "outputs": [
    {
     "name": "stdout",
     "output_type": "stream",
     "text": [
      "Videos: /mnt/945C2D6E5C2D4BF4/Kaggle/DeepFake/data\n"
     ]
    }
   ],
   "source": [
    "import os\n",
    "import pandas as pd\n",
    "import numpy as np\n",
    "import glob\n",
    "from pathlib import Path\n",
    "import cv2\n",
    "import seaborn as sns\n",
    "import json\n",
    "import torch\n",
    "import sys\n",
    "import matplotlib.pyplot as plt\n",
    "import seaborn as sns\n",
    "import eli5\n",
    "import gc\n",
    "\n",
    "with open(\"../user_config.json\") as config:\n",
    "    path_dict = json.load(config)['data_paths']\n",
    "    video_path = path_dict['video_path']\n",
    "\n",
    "print(\"Videos: \" + video_path)"
   ]
  },
  {
   "cell_type": "code",
   "execution_count": 2,
   "metadata": {},
   "outputs": [
    {
     "data": {
      "text/plain": [
       "'0.21.3'"
      ]
     },
     "execution_count": 2,
     "metadata": {},
     "output_type": "execute_result"
    }
   ],
   "source": [
    "import sklearn\n",
    "sklearn.__version__"
   ]
  },
  {
   "cell_type": "code",
   "execution_count": 3,
   "metadata": {},
   "outputs": [
    {
     "name": "stderr",
     "output_type": "stream",
     "text": [
      "/home/joni/.local/lib/python3.6/site-packages/sklearn/externals/joblib/__init__.py:15: DeprecationWarning: sklearn.externals.joblib is deprecated in 0.21 and will be removed in 0.23. Please import this functionality directly from joblib, which can be installed with: pip install joblib. If this warning is raised when loading pickled models, you may need to re-serialize those models with scikit-learn 0.21+.\n",
      "  warnings.warn(msg, category=DeprecationWarning)\n"
     ]
    }
   ],
   "source": [
    "sys.path.append('../detector/')\n",
    "from DeepFakeDetector import DeepFakeDetector\n",
    "sys.path.append('../util/')"
   ]
  },
  {
   "cell_type": "code",
   "execution_count": 4,
   "metadata": {},
   "outputs": [],
   "source": [
    "# Copy the facenet pretrained weights to cache\n",
    "!mkdir -p /tmp/.cache/torch/checkpoints/\n",
    "!cp ../pretrained_models/facenet_pytorch/20180402-114759-vggface2-logits.pth /tmp/.cache/torch/checkpoints/vggface2_DG3kwML46X.pt\n",
    "!cp ../pretrained_models/facenet_pytorch/20180402-114759-vggface2-features.pth /tmp/.cache/torch/checkpoints/vggface2_G5aNV2VSMn.pt"
   ]
  },
  {
   "cell_type": "code",
   "execution_count": 5,
   "metadata": {},
   "outputs": [
    {
     "data": {
      "text/html": [
       "<div>\n",
       "<style scoped>\n",
       "    .dataframe tbody tr th:only-of-type {\n",
       "        vertical-align: middle;\n",
       "    }\n",
       "\n",
       "    .dataframe tbody tr th {\n",
       "        vertical-align: top;\n",
       "    }\n",
       "\n",
       "    .dataframe thead th {\n",
       "        text-align: right;\n",
       "    }\n",
       "</style>\n",
       "<table border=\"1\" class=\"dataframe\">\n",
       "  <thead>\n",
       "    <tr style=\"text-align: right;\">\n",
       "      <th></th>\n",
       "      <th>index</th>\n",
       "      <th>label</th>\n",
       "      <th>split</th>\n",
       "      <th>isVal</th>\n",
       "      <th>cv_fold</th>\n",
       "      <th>person_count</th>\n",
       "      <th>first_person_label</th>\n",
       "      <th>second_person_label</th>\n",
       "      <th>first_person_frame_labels</th>\n",
       "      <th>second_person_frame_labels</th>\n",
       "      <th>original</th>\n",
       "      <th>version</th>\n",
       "    </tr>\n",
       "  </thead>\n",
       "  <tbody>\n",
       "    <tr>\n",
       "      <th>0</th>\n",
       "      <td>gmuagvvcen.mp4</td>\n",
       "      <td>FAKE</td>\n",
       "      <td>1st_level</td>\n",
       "      <td>False</td>\n",
       "      <td>3</td>\n",
       "      <td>1</td>\n",
       "      <td>3.0</td>\n",
       "      <td>NaN</td>\n",
       "      <td>[2, 2, 2, 2, 2, 2, 2, 2, 2, 2, 3, 2, 2, 2, 2, ...</td>\n",
       "      <td>NaN</td>\n",
       "      <td>xyioxposka.mp4</td>\n",
       "      <td>2020-02-17</td>\n",
       "    </tr>\n",
       "    <tr>\n",
       "      <th>1</th>\n",
       "      <td>nlbejgudfx.mp4</td>\n",
       "      <td>FAKE</td>\n",
       "      <td>1st_level</td>\n",
       "      <td>False</td>\n",
       "      <td>1</td>\n",
       "      <td>1</td>\n",
       "      <td>3.0</td>\n",
       "      <td>NaN</td>\n",
       "      <td>[3, 3, 3, 3, 3, 3, 3, 3, 3, 3, 3, 3, 3, 3, 3, ...</td>\n",
       "      <td>NaN</td>\n",
       "      <td>acguxjvmju.mp4</td>\n",
       "      <td>2020-02-17</td>\n",
       "    </tr>\n",
       "    <tr>\n",
       "      <th>2</th>\n",
       "      <td>smptxlklxc.mp4</td>\n",
       "      <td>REAL</td>\n",
       "      <td>1st_level</td>\n",
       "      <td>False</td>\n",
       "      <td>0</td>\n",
       "      <td>1</td>\n",
       "      <td>0.0</td>\n",
       "      <td>NaN</td>\n",
       "      <td>[0, 0, 0, 0, 0, 0, 0, 0, 0, 0, 0, 0, 0, 0, 0, ...</td>\n",
       "      <td>NaN</td>\n",
       "      <td>NaN</td>\n",
       "      <td>2020-02-17</td>\n",
       "    </tr>\n",
       "    <tr>\n",
       "      <th>3</th>\n",
       "      <td>xmodyeeaxr.mp4</td>\n",
       "      <td>FAKE</td>\n",
       "      <td>1st_level</td>\n",
       "      <td>False</td>\n",
       "      <td>1</td>\n",
       "      <td>1</td>\n",
       "      <td>1.0</td>\n",
       "      <td>NaN</td>\n",
       "      <td>[0, 0, 0, 0, 1, 1, 1, 1, 1, 1, 1, 0, 0, 1, 1, ...</td>\n",
       "      <td>NaN</td>\n",
       "      <td>ptpwappdyx.mp4</td>\n",
       "      <td>2020-02-17</td>\n",
       "    </tr>\n",
       "    <tr>\n",
       "      <th>4</th>\n",
       "      <td>hvxrsfgvyi.mp4</td>\n",
       "      <td>FAKE</td>\n",
       "      <td>1st_level</td>\n",
       "      <td>False</td>\n",
       "      <td>2</td>\n",
       "      <td>2</td>\n",
       "      <td>2.0</td>\n",
       "      <td>0.0</td>\n",
       "      <td>[2, 2, 2, 2, 2, 2, 2, 2, 2, 2, 2, 2, 2, 2, 2, ...</td>\n",
       "      <td>[0, 0, 0, 0, 0, 0, 0, 0, 0, 0, 0, 0, 0, 0, 0, ...</td>\n",
       "      <td>qelncdmypn.mp4</td>\n",
       "      <td>2020-02-17</td>\n",
       "    </tr>\n",
       "  </tbody>\n",
       "</table>\n",
       "</div>"
      ],
      "text/plain": [
       "            index label      split  isVal  cv_fold  person_count  \\\n",
       "0  gmuagvvcen.mp4  FAKE  1st_level  False        3             1   \n",
       "1  nlbejgudfx.mp4  FAKE  1st_level  False        1             1   \n",
       "2  smptxlklxc.mp4  REAL  1st_level  False        0             1   \n",
       "3  xmodyeeaxr.mp4  FAKE  1st_level  False        1             1   \n",
       "4  hvxrsfgvyi.mp4  FAKE  1st_level  False        2             2   \n",
       "\n",
       "   first_person_label  second_person_label  \\\n",
       "0                 3.0                  NaN   \n",
       "1                 3.0                  NaN   \n",
       "2                 0.0                  NaN   \n",
       "3                 1.0                  NaN   \n",
       "4                 2.0                  0.0   \n",
       "\n",
       "                           first_person_frame_labels  \\\n",
       "0  [2, 2, 2, 2, 2, 2, 2, 2, 2, 2, 3, 2, 2, 2, 2, ...   \n",
       "1  [3, 3, 3, 3, 3, 3, 3, 3, 3, 3, 3, 3, 3, 3, 3, ...   \n",
       "2  [0, 0, 0, 0, 0, 0, 0, 0, 0, 0, 0, 0, 0, 0, 0, ...   \n",
       "3  [0, 0, 0, 0, 1, 1, 1, 1, 1, 1, 1, 0, 0, 1, 1, ...   \n",
       "4  [2, 2, 2, 2, 2, 2, 2, 2, 2, 2, 2, 2, 2, 2, 2, ...   \n",
       "\n",
       "                          second_person_frame_labels        original  \\\n",
       "0                                                NaN  xyioxposka.mp4   \n",
       "1                                                NaN  acguxjvmju.mp4   \n",
       "2                                                NaN             NaN   \n",
       "3                                                NaN  ptpwappdyx.mp4   \n",
       "4  [0, 0, 0, 0, 0, 0, 0, 0, 0, 0, 0, 0, 0, 0, 0, ...  qelncdmypn.mp4   \n",
       "\n",
       "      version  \n",
       "0  2020-02-17  \n",
       "1  2020-02-17  \n",
       "2  2020-02-17  \n",
       "3  2020-02-17  \n",
       "4  2020-02-17  "
      ]
     },
     "execution_count": 5,
     "metadata": {},
     "output_type": "execute_result"
    }
   ],
   "source": [
    "df = pd.read_csv('../data/metadata_tr_val_split_folds.csv')\n",
    "df.head()"
   ]
  },
  {
   "cell_type": "code",
   "execution_count": 6,
   "metadata": {},
   "outputs": [
    {
     "name": "stdout",
     "output_type": "stream",
     "text": [
      "119146\n"
     ]
    }
   ],
   "source": [
    "# Get all test videos\n",
    "filenames = []\n",
    "for filename in Path(video_path).rglob('*.mp4'):\n",
    "    filenames.append(filename)\n",
    "print(len(filenames))"
   ]
  },
  {
   "cell_type": "code",
   "execution_count": 16,
   "metadata": {},
   "outputs": [
    {
     "name": "stdout",
     "output_type": "stream",
     "text": [
      "cuda:0\n",
      "Loaded video frame sampler.\n",
      "Loaded face detectors.\n",
      "Loaded pytorch facenet face embeddings model.\n",
      "Loaded 0 small face classifier and 3 large face classifier models.\n",
      "0 - Large face model: ../kaggle_datasets/deepfake_2020_03_23/large_face_classifier/2020_03_21-f1\n",
      "1 - Large face model: ../kaggle_datasets/deepfake_2020_03_23/large_face_classifier/2020_03_21-f2\n",
      "2 - Large face model: ../kaggle_datasets/deepfake_2020_03_23/large_face_classifier/2020_03_22-f4\n",
      "RecurrrentModelConfig: len_sequence 5, min_frame_index 10, max_frame_index 16\n",
      "Loaded 1 face sequence classifier models.\n",
      "Loaded 5 second level xgb classifier models, 5 logistic regression models and 5 LightGBM models\n",
      "##################################################\n",
      "DeepFakeDetector v.0.7.5\n",
      "Sample 10 first frames and 10 spaced frames.\n",
      "Number of max retries is 4\n",
      "On error cases, predict 0.5\n",
      "##################################################\n"
     ]
    }
   ],
   "source": [
    "n_first_frames = 10\n",
    "n_spaced_frames = 10\n",
    "pretrained_paths = '../pretrained_models/'\n",
    "models_root_dir = '../kaggle_datasets/deepfake_2020_03_23/'\n",
    "\n",
    "deepFakeDetector = DeepFakeDetector(deepfake_models_directory=models_root_dir,\n",
    "                                    third_party_models_directory=pretrained_paths,\n",
    "                                    n_first_frames=n_first_frames,\n",
    "                                    n_spaced_frames=n_spaced_frames)"
   ]
  },
  {
   "cell_type": "code",
   "execution_count": 8,
   "metadata": {},
   "outputs": [
    {
     "name": "stdout",
     "output_type": "stream",
     "text": [
      "Num features: 100\n"
     ]
    },
    {
     "data": {
      "text/plain": [
       "array(['large_face_clf_mean_0_original_first', 'large_face_clf_max_0_original_first',\n",
       "       'large_face_clf_std_0_original_first', 'large_face_clf_median_0_original_first', ...,\n",
       "       'seq_clf_len-5_start-10_0_bright_mean', 'seq_clf_len-5_start-10_0_bright_max',\n",
       "       'seq_clf_len-5_start-10_0_zoom_mean', 'seq_clf_len-5_start-10_0_zoom_max'], dtype='<U48')"
      ]
     },
     "execution_count": 8,
     "metadata": {},
     "output_type": "execute_result"
    }
   ],
   "source": [
    "featNames = deepFakeDetector.GetFeatureNames()\n",
    "print(\"Num features: \" + str(len(featNames)))\n",
    "featNames"
   ]
  },
  {
   "cell_type": "markdown",
   "metadata": {},
   "source": [
    "We have saved the two-person cases from validation set for testing"
   ]
  },
  {
   "cell_type": "code",
   "execution_count": 9,
   "metadata": {},
   "outputs": [
    {
     "data": {
      "text/html": [
       "<div>\n",
       "<style scoped>\n",
       "    .dataframe tbody tr th:only-of-type {\n",
       "        vertical-align: middle;\n",
       "    }\n",
       "\n",
       "    .dataframe tbody tr th {\n",
       "        vertical-align: top;\n",
       "    }\n",
       "\n",
       "    .dataframe thead th {\n",
       "        text-align: right;\n",
       "    }\n",
       "</style>\n",
       "<table border=\"1\" class=\"dataframe\">\n",
       "  <thead>\n",
       "    <tr style=\"text-align: right;\">\n",
       "      <th></th>\n",
       "      <th>index</th>\n",
       "      <th>label</th>\n",
       "      <th>split</th>\n",
       "      <th>isVal</th>\n",
       "      <th>cv_fold</th>\n",
       "      <th>person_count</th>\n",
       "      <th>first_person_label</th>\n",
       "      <th>second_person_label</th>\n",
       "      <th>first_person_frame_labels</th>\n",
       "      <th>second_person_frame_labels</th>\n",
       "      <th>original</th>\n",
       "      <th>version</th>\n",
       "    </tr>\n",
       "  </thead>\n",
       "  <tbody>\n",
       "    <tr>\n",
       "      <th>26</th>\n",
       "      <td>eerbsimaoy.mp4</td>\n",
       "      <td>FAKE</td>\n",
       "      <td>2nd_level</td>\n",
       "      <td>True</td>\n",
       "      <td>2</td>\n",
       "      <td>2</td>\n",
       "      <td>3.0</td>\n",
       "      <td>2.0</td>\n",
       "      <td>[3, 3, 3, 3, 3, 3, 3, 3, 3, 3, 3, 3, 3, 0, 0, ...</td>\n",
       "      <td>[0, 0, 0, 0, 0, 0, 0, 0, 0, 0, 0, 0, 0, 0, 2, ...</td>\n",
       "      <td>pfvywdrbno.mp4</td>\n",
       "      <td>2020-02-17</td>\n",
       "    </tr>\n",
       "    <tr>\n",
       "      <th>99</th>\n",
       "      <td>oqglliennm.mp4</td>\n",
       "      <td>FAKE</td>\n",
       "      <td>2nd_level</td>\n",
       "      <td>True</td>\n",
       "      <td>1</td>\n",
       "      <td>2</td>\n",
       "      <td>2.0</td>\n",
       "      <td>0.0</td>\n",
       "      <td>[1, 1, 1, 1, 1, 1, 1, 1, 1, 1, 1, 1, 1, 1, 1, ...</td>\n",
       "      <td>[0, 0, 0, 0, 0, 0, 0, 0, 0, 0, 0, 0, 0, 0, 0, ...</td>\n",
       "      <td>fqeebgwwfs.mp4</td>\n",
       "      <td>2020-02-17</td>\n",
       "    </tr>\n",
       "    <tr>\n",
       "      <th>104</th>\n",
       "      <td>rxhqujqzwh.mp4</td>\n",
       "      <td>FAKE</td>\n",
       "      <td>2nd_level</td>\n",
       "      <td>True</td>\n",
       "      <td>1</td>\n",
       "      <td>2</td>\n",
       "      <td>2.0</td>\n",
       "      <td>1.0</td>\n",
       "      <td>[2, 1, 2, 1, 1, 1, 1, 1, 1, 1, 1, 1, 1, 1, 1, ...</td>\n",
       "      <td>[0, 0, 0, 0, 0, 0, 0, 0, 0, 0, 0, 0, 0, 0, 1, ...</td>\n",
       "      <td>ydqovcxvum.mp4</td>\n",
       "      <td>2020-02-17</td>\n",
       "    </tr>\n",
       "    <tr>\n",
       "      <th>109</th>\n",
       "      <td>flxsxcgfkz.mp4</td>\n",
       "      <td>FAKE</td>\n",
       "      <td>2nd_level</td>\n",
       "      <td>True</td>\n",
       "      <td>1</td>\n",
       "      <td>2</td>\n",
       "      <td>1.0</td>\n",
       "      <td>1.0</td>\n",
       "      <td>[1, 1, 1, 1, 1, 1, 1, 1, 1, 1, 1, 1, 1, 1, 1, ...</td>\n",
       "      <td>[1, 1, 1, 1, 1, 1, 1, 1, 1, 1, 0, 0, 1, 1, 0, ...</td>\n",
       "      <td>zakfeyskak.mp4</td>\n",
       "      <td>2020-02-17</td>\n",
       "    </tr>\n",
       "    <tr>\n",
       "      <th>140</th>\n",
       "      <td>eskrzejqxk.mp4</td>\n",
       "      <td>FAKE</td>\n",
       "      <td>2nd_level</td>\n",
       "      <td>True</td>\n",
       "      <td>0</td>\n",
       "      <td>2</td>\n",
       "      <td>2.0</td>\n",
       "      <td>1.0</td>\n",
       "      <td>[1, 1, 1, 1, 2, 1, 2, 2, 2, 2, 1, 0, 1, 1, 0, ...</td>\n",
       "      <td>[0, 0, 0, 0, 0, 0, 0, 0, 0, 0, 1, 0, 0, 1, 0, ...</td>\n",
       "      <td>xylxjtdsdq.mp4</td>\n",
       "      <td>2020-02-17</td>\n",
       "    </tr>\n",
       "  </tbody>\n",
       "</table>\n",
       "</div>"
      ],
      "text/plain": [
       "              index label      split  isVal  cv_fold  person_count  \\\n",
       "26   eerbsimaoy.mp4  FAKE  2nd_level   True        2             2   \n",
       "99   oqglliennm.mp4  FAKE  2nd_level   True        1             2   \n",
       "104  rxhqujqzwh.mp4  FAKE  2nd_level   True        1             2   \n",
       "109  flxsxcgfkz.mp4  FAKE  2nd_level   True        1             2   \n",
       "140  eskrzejqxk.mp4  FAKE  2nd_level   True        0             2   \n",
       "\n",
       "     first_person_label  second_person_label  \\\n",
       "26                  3.0                  2.0   \n",
       "99                  2.0                  0.0   \n",
       "104                 2.0                  1.0   \n",
       "109                 1.0                  1.0   \n",
       "140                 2.0                  1.0   \n",
       "\n",
       "                             first_person_frame_labels  \\\n",
       "26   [3, 3, 3, 3, 3, 3, 3, 3, 3, 3, 3, 3, 3, 0, 0, ...   \n",
       "99   [1, 1, 1, 1, 1, 1, 1, 1, 1, 1, 1, 1, 1, 1, 1, ...   \n",
       "104  [2, 1, 2, 1, 1, 1, 1, 1, 1, 1, 1, 1, 1, 1, 1, ...   \n",
       "109  [1, 1, 1, 1, 1, 1, 1, 1, 1, 1, 1, 1, 1, 1, 1, ...   \n",
       "140  [1, 1, 1, 1, 2, 1, 2, 2, 2, 2, 1, 0, 1, 1, 0, ...   \n",
       "\n",
       "                            second_person_frame_labels        original  \\\n",
       "26   [0, 0, 0, 0, 0, 0, 0, 0, 0, 0, 0, 0, 0, 0, 2, ...  pfvywdrbno.mp4   \n",
       "99   [0, 0, 0, 0, 0, 0, 0, 0, 0, 0, 0, 0, 0, 0, 0, ...  fqeebgwwfs.mp4   \n",
       "104  [0, 0, 0, 0, 0, 0, 0, 0, 0, 0, 0, 0, 0, 0, 1, ...  ydqovcxvum.mp4   \n",
       "109  [1, 1, 1, 1, 1, 1, 1, 1, 1, 1, 0, 0, 1, 1, 0, ...  zakfeyskak.mp4   \n",
       "140  [0, 0, 0, 0, 0, 0, 0, 0, 0, 0, 1, 0, 0, 1, 0, ...  xylxjtdsdq.mp4   \n",
       "\n",
       "        version  \n",
       "26   2020-02-17  \n",
       "99   2020-02-17  \n",
       "104  2020-02-17  \n",
       "109  2020-02-17  \n",
       "140  2020-02-17  "
      ]
     },
     "execution_count": 9,
     "metadata": {},
     "output_type": "execute_result"
    }
   ],
   "source": [
    "df = df[df['isVal']==True]\n",
    "df = df[df['cv_fold']<999]\n",
    "df = df[df['person_count']==2]\n",
    "df.head()"
   ]
  },
  {
   "cell_type": "code",
   "execution_count": 10,
   "metadata": {},
   "outputs": [
    {
     "name": "stdout",
     "output_type": "stream",
     "text": [
      "2770\n"
     ]
    }
   ],
   "source": [
    "print(len(df))"
   ]
  },
  {
   "cell_type": "code",
   "execution_count": 11,
   "metadata": {},
   "outputs": [
    {
     "data": {
      "text/plain": [
       "<matplotlib.axes._subplots.AxesSubplot at 0x7fc5064c2898>"
      ]
     },
     "execution_count": 11,
     "metadata": {},
     "output_type": "execute_result"
    },
    {
     "data": {
      "image/png": "[encoded data removed]",
      "text/plain": [
       "<Figure size 432x288 with 1 Axes>"
      ]
     },
     "metadata": {
      "needs_background": "light"
     },
     "output_type": "display_data"
    }
   ],
   "source": [
    "df.label.hist()"
   ]
  },
  {
   "cell_type": "code",
   "execution_count": 12,
   "metadata": {},
   "outputs": [
    {
     "name": "stdout",
     "output_type": "stream",
     "text": [
      "There are 5.2 times more fakes\n"
     ]
    }
   ],
   "source": [
    "fake_real_ratio = len(df[df['label']=='FAKE']) / len(df[df['label']=='REAL'])\n",
    "print('There are {0:.2} times more fakes'.format(fake_real_ratio))"
   ]
  },
  {
   "cell_type": "code",
   "execution_count": 13,
   "metadata": {},
   "outputs": [
    {
     "data": {
      "text/html": [
       "<div>\n",
       "<style scoped>\n",
       "    .dataframe tbody tr th:only-of-type {\n",
       "        vertical-align: middle;\n",
       "    }\n",
       "\n",
       "    .dataframe tbody tr th {\n",
       "        vertical-align: top;\n",
       "    }\n",
       "\n",
       "    .dataframe thead th {\n",
       "        text-align: right;\n",
       "    }\n",
       "</style>\n",
       "<table border=\"1\" class=\"dataframe\">\n",
       "  <thead>\n",
       "    <tr style=\"text-align: right;\">\n",
       "      <th></th>\n",
       "      <th>label</th>\n",
       "      <th>split</th>\n",
       "      <th>isVal</th>\n",
       "      <th>cv_fold</th>\n",
       "      <th>person_count</th>\n",
       "      <th>first_person_label</th>\n",
       "      <th>second_person_label</th>\n",
       "      <th>first_person_frame_labels</th>\n",
       "      <th>second_person_frame_labels</th>\n",
       "      <th>original</th>\n",
       "      <th>version</th>\n",
       "    </tr>\n",
       "    <tr>\n",
       "      <th>index</th>\n",
       "      <th></th>\n",
       "      <th></th>\n",
       "      <th></th>\n",
       "      <th></th>\n",
       "      <th></th>\n",
       "      <th></th>\n",
       "      <th></th>\n",
       "      <th></th>\n",
       "      <th></th>\n",
       "      <th></th>\n",
       "      <th></th>\n",
       "    </tr>\n",
       "  </thead>\n",
       "  <tbody>\n",
       "    <tr>\n",
       "      <th>eerbsimaoy.mp4</th>\n",
       "      <td>FAKE</td>\n",
       "      <td>2nd_level</td>\n",
       "      <td>True</td>\n",
       "      <td>2</td>\n",
       "      <td>2</td>\n",
       "      <td>3.0</td>\n",
       "      <td>2.0</td>\n",
       "      <td>[3, 3, 3, 3, 3, 3, 3, 3, 3, 3, 3, 3, 3, 0, 0, ...</td>\n",
       "      <td>[0, 0, 0, 0, 0, 0, 0, 0, 0, 0, 0, 0, 0, 0, 2, ...</td>\n",
       "      <td>pfvywdrbno.mp4</td>\n",
       "      <td>2020-02-17</td>\n",
       "    </tr>\n",
       "    <tr>\n",
       "      <th>oqglliennm.mp4</th>\n",
       "      <td>FAKE</td>\n",
       "      <td>2nd_level</td>\n",
       "      <td>True</td>\n",
       "      <td>1</td>\n",
       "      <td>2</td>\n",
       "      <td>2.0</td>\n",
       "      <td>0.0</td>\n",
       "      <td>[1, 1, 1, 1, 1, 1, 1, 1, 1, 1, 1, 1, 1, 1, 1, ...</td>\n",
       "      <td>[0, 0, 0, 0, 0, 0, 0, 0, 0, 0, 0, 0, 0, 0, 0, ...</td>\n",
       "      <td>fqeebgwwfs.mp4</td>\n",
       "      <td>2020-02-17</td>\n",
       "    </tr>\n",
       "    <tr>\n",
       "      <th>rxhqujqzwh.mp4</th>\n",
       "      <td>FAKE</td>\n",
       "      <td>2nd_level</td>\n",
       "      <td>True</td>\n",
       "      <td>1</td>\n",
       "      <td>2</td>\n",
       "      <td>2.0</td>\n",
       "      <td>1.0</td>\n",
       "      <td>[2, 1, 2, 1, 1, 1, 1, 1, 1, 1, 1, 1, 1, 1, 1, ...</td>\n",
       "      <td>[0, 0, 0, 0, 0, 0, 0, 0, 0, 0, 0, 0, 0, 0, 1, ...</td>\n",
       "      <td>ydqovcxvum.mp4</td>\n",
       "      <td>2020-02-17</td>\n",
       "    </tr>\n",
       "    <tr>\n",
       "      <th>flxsxcgfkz.mp4</th>\n",
       "      <td>FAKE</td>\n",
       "      <td>2nd_level</td>\n",
       "      <td>True</td>\n",
       "      <td>1</td>\n",
       "      <td>2</td>\n",
       "      <td>1.0</td>\n",
       "      <td>1.0</td>\n",
       "      <td>[1, 1, 1, 1, 1, 1, 1, 1, 1, 1, 1, 1, 1, 1, 1, ...</td>\n",
       "      <td>[1, 1, 1, 1, 1, 1, 1, 1, 1, 1, 0, 0, 1, 1, 0, ...</td>\n",
       "      <td>zakfeyskak.mp4</td>\n",
       "      <td>2020-02-17</td>\n",
       "    </tr>\n",
       "    <tr>\n",
       "      <th>eskrzejqxk.mp4</th>\n",
       "      <td>FAKE</td>\n",
       "      <td>2nd_level</td>\n",
       "      <td>True</td>\n",
       "      <td>0</td>\n",
       "      <td>2</td>\n",
       "      <td>2.0</td>\n",
       "      <td>1.0</td>\n",
       "      <td>[1, 1, 1, 1, 2, 1, 2, 2, 2, 2, 1, 0, 1, 1, 0, ...</td>\n",
       "      <td>[0, 0, 0, 0, 0, 0, 0, 0, 0, 0, 1, 0, 0, 1, 0, ...</td>\n",
       "      <td>xylxjtdsdq.mp4</td>\n",
       "      <td>2020-02-17</td>\n",
       "    </tr>\n",
       "  </tbody>\n",
       "</table>\n",
       "</div>"
      ],
      "text/plain": [
       "               label      split  isVal  cv_fold  person_count  \\\n",
       "index                                                           \n",
       "eerbsimaoy.mp4  FAKE  2nd_level   True        2             2   \n",
       "oqglliennm.mp4  FAKE  2nd_level   True        1             2   \n",
       "rxhqujqzwh.mp4  FAKE  2nd_level   True        1             2   \n",
       "flxsxcgfkz.mp4  FAKE  2nd_level   True        1             2   \n",
       "eskrzejqxk.mp4  FAKE  2nd_level   True        0             2   \n",
       "\n",
       "                first_person_label  second_person_label  \\\n",
       "index                                                     \n",
       "eerbsimaoy.mp4                 3.0                  2.0   \n",
       "oqglliennm.mp4                 2.0                  0.0   \n",
       "rxhqujqzwh.mp4                 2.0                  1.0   \n",
       "flxsxcgfkz.mp4                 1.0                  1.0   \n",
       "eskrzejqxk.mp4                 2.0                  1.0   \n",
       "\n",
       "                                        first_person_frame_labels  \\\n",
       "index                                                               \n",
       "eerbsimaoy.mp4  [3, 3, 3, 3, 3, 3, 3, 3, 3, 3, 3, 3, 3, 0, 0, ...   \n",
       "oqglliennm.mp4  [1, 1, 1, 1, 1, 1, 1, 1, 1, 1, 1, 1, 1, 1, 1, ...   \n",
       "rxhqujqzwh.mp4  [2, 1, 2, 1, 1, 1, 1, 1, 1, 1, 1, 1, 1, 1, 1, ...   \n",
       "flxsxcgfkz.mp4  [1, 1, 1, 1, 1, 1, 1, 1, 1, 1, 1, 1, 1, 1, 1, ...   \n",
       "eskrzejqxk.mp4  [1, 1, 1, 1, 2, 1, 2, 2, 2, 2, 1, 0, 1, 1, 0, ...   \n",
       "\n",
       "                                       second_person_frame_labels  \\\n",
       "index                                                               \n",
       "eerbsimaoy.mp4  [0, 0, 0, 0, 0, 0, 0, 0, 0, 0, 0, 0, 0, 0, 2, ...   \n",
       "oqglliennm.mp4  [0, 0, 0, 0, 0, 0, 0, 0, 0, 0, 0, 0, 0, 0, 0, ...   \n",
       "rxhqujqzwh.mp4  [0, 0, 0, 0, 0, 0, 0, 0, 0, 0, 0, 0, 0, 0, 1, ...   \n",
       "flxsxcgfkz.mp4  [1, 1, 1, 1, 1, 1, 1, 1, 1, 1, 0, 0, 1, 1, 0, ...   \n",
       "eskrzejqxk.mp4  [0, 0, 0, 0, 0, 0, 0, 0, 0, 0, 1, 0, 0, 1, 0, ...   \n",
       "\n",
       "                      original     version  \n",
       "index                                       \n",
       "eerbsimaoy.mp4  pfvywdrbno.mp4  2020-02-17  \n",
       "oqglliennm.mp4  fqeebgwwfs.mp4  2020-02-17  \n",
       "rxhqujqzwh.mp4  ydqovcxvum.mp4  2020-02-17  \n",
       "flxsxcgfkz.mp4  zakfeyskak.mp4  2020-02-17  \n",
       "eskrzejqxk.mp4  xylxjtdsdq.mp4  2020-02-17  "
      ]
     },
     "execution_count": 13,
     "metadata": {},
     "output_type": "execute_result"
    }
   ],
   "source": [
    "df = df.set_index('index')\n",
    "df.head()"
   ]
  },
  {
   "cell_type": "code",
   "execution_count": 17,
   "metadata": {},
   "outputs": [
    {
     "data": {
      "application/vnd.jupyter.widget-view+json": {
       "model_id": "296e7fce69d04d4b93d8d3a2ca253ae3",
       "version_major": 2,
       "version_minor": 0
      },
      "text/plain": [
       "HBox(children=(FloatProgress(value=0.0, max=119146.0), HTML(value='')))"
      ]
     },
     "metadata": {},
     "output_type": "display_data"
    },
    {
     "name": "stdout",
     "output_type": "stream",
     "text": [
      "Error with /mnt/945C2D6E5C2D4BF4/Kaggle/DeepFake/data/dfdc_train_part_36/lnpakizjpy.mp4 - 85380\n",
      "Error with /mnt/945C2D6E5C2D4BF4/Kaggle/DeepFake/data/dfdc_train_part_36/lzfxzqbraf.mp4 - 85412\n",
      "Error with /mnt/945C2D6E5C2D4BF4/Kaggle/DeepFake/data/dfdc_train_part_36/sfgddstquc.mp4 - 85990\n",
      "Error with /mnt/945C2D6E5C2D4BF4/Kaggle/DeepFake/data/dfdc_train_part_36/ulazwizska.mp4 - 86186\n",
      "Error with /mnt/945C2D6E5C2D4BF4/Kaggle/DeepFake/data/dfdc_train_part_36/yhessichhu.mp4 - 86534\n",
      "Error with /mnt/945C2D6E5C2D4BF4/Kaggle/DeepFake/data/dfdc_train_part_46/nlpvkvxgma.mp4 - 110036\n",
      "Error with /mnt/945C2D6E5C2D4BF4/Kaggle/DeepFake/data/dfdc_train_part_46/zkfiwyrzxo.mp4 - 111075\n",
      "Error with /mnt/945C2D6E5C2D4BF4/Kaggle/DeepFake/data/dfdc_train_part_47/asbrrnbkbn.mp4 - 111208\n",
      "Error with /mnt/945C2D6E5C2D4BF4/Kaggle/DeepFake/data/dfdc_train_part_47/azmbudlmve.mp4 - 111252\n",
      "Error with /mnt/945C2D6E5C2D4BF4/Kaggle/DeepFake/data/dfdc_train_part_47/dtdlzuofte.mp4 - 111496\n",
      "Error with /mnt/945C2D6E5C2D4BF4/Kaggle/DeepFake/data/dfdc_train_part_47/gayypjkwsg.mp4 - 111721\n",
      "Error with /mnt/945C2D6E5C2D4BF4/Kaggle/DeepFake/data/dfdc_train_part_47/jjhkbwwqrc.mp4 - 112031\n",
      "Error with /mnt/945C2D6E5C2D4BF4/Kaggle/DeepFake/data/dfdc_train_part_47/kamabtemwe.mp4 - 112095\n",
      "Error with /mnt/945C2D6E5C2D4BF4/Kaggle/DeepFake/data/dfdc_train_part_47/klspkxerhf.mp4 - 112125\n",
      "Error with /mnt/945C2D6E5C2D4BF4/Kaggle/DeepFake/data/dfdc_train_part_47/stldzhoszg.mp4 - 112872\n",
      "Error with /mnt/945C2D6E5C2D4BF4/Kaggle/DeepFake/data/dfdc_train_part_47/zphkhxzdke.mp4 - 113519\n",
      "Error with /mnt/945C2D6E5C2D4BF4/Kaggle/DeepFake/data/dfdc_train_part_48/dfjeslbxar.mp4 - 113868\n",
      "Error with /mnt/945C2D6E5C2D4BF4/Kaggle/DeepFake/data/dfdc_train_part_48/dtmboydqqu.mp4 - 113912\n",
      "Error with /mnt/945C2D6E5C2D4BF4/Kaggle/DeepFake/data/dfdc_train_part_48/hmhnfzfrro.mp4 - 114261\n",
      "Error with /mnt/945C2D6E5C2D4BF4/Kaggle/DeepFake/data/dfdc_train_part_48/juzhmqbiwn.mp4 - 114497\n",
      "Error with /mnt/945C2D6E5C2D4BF4/Kaggle/DeepFake/data/dfdc_train_part_48/kdioikogxu.mp4 - 114529\n",
      "Error with /mnt/945C2D6E5C2D4BF4/Kaggle/DeepFake/data/dfdc_train_part_48/qlbfklnrfc.mp4 - 115134\n",
      "Error with /mnt/945C2D6E5C2D4BF4/Kaggle/DeepFake/data/dfdc_train_part_48/scdqcszlpq.mp4 - 115276\n",
      "Error with /mnt/945C2D6E5C2D4BF4/Kaggle/DeepFake/data/dfdc_train_part_48/vnsxdkjjtk.mp4 - 115588\n",
      "Error with /mnt/945C2D6E5C2D4BF4/Kaggle/DeepFake/data/dfdc_train_part_48/xykgsbirag.mp4 - 115823\n",
      "Error with /mnt/945C2D6E5C2D4BF4/Kaggle/DeepFake/data/dfdc_train_part_49/jwbkfbbcrr.mp4 - 117180\n",
      "Error with /mnt/945C2D6E5C2D4BF4/Kaggle/DeepFake/data/dfdc_train_part_49/rsjhmrvdwg.mp4 - 118142\n",
      "Error with /mnt/945C2D6E5C2D4BF4/Kaggle/DeepFake/data/dfdc_train_part_49/xplegyuyte.mp4 - 118866\n",
      "\n"
     ]
    }
   ],
   "source": [
    "from tqdm.notebook import tqdm as tqdm\n",
    "import random\n",
    "random.seed(2020)\n",
    "\n",
    "#raw lists\n",
    "preds_fake = []\n",
    "preds_real = []\n",
    "\n",
    "keys=df.index.values\n",
    "feat_len = featNames.shape[0]\n",
    "\n",
    "for i, filename in enumerate(tqdm(filenames)):\n",
    "       \n",
    "    plain_name = str(filename).split('/')[len(str(filename).split('/'))-1]\n",
    "    \n",
    "    if plain_name not in keys:\n",
    "        continue\n",
    "    \n",
    "    is_fake = True if df.at[plain_name,'label'] == 'FAKE' else False\n",
    "    \n",
    "    #sample fakes the same amount as reals and sample randomly\n",
    "    if is_fake and random.randint(0,int(round(10*fake_real_ratio))) >= 10:\n",
    "        continue\n",
    "    \n",
    "    split = df.at[plain_name,'cv_fold']\n",
    "    try:\n",
    "        pred = deepFakeDetector.Predict(str(filename), handleErrors=False, apply_augmentations=True)\n",
    "        if is_fake:\n",
    "            preds_fake.append(pred)\n",
    "        else:\n",
    "            preds_real.append(pred)\n",
    "    except:\n",
    "        print(\"Error with \" + str(filename) + ' - ' + str(i))\n",
    "        continue"
   ]
  },
  {
   "cell_type": "code",
   "execution_count": 18,
   "metadata": {},
   "outputs": [
    {
     "data": {
      "image/png": "[encoded data removed]",
      "text/plain": [
       "<Figure size 288x288 with 1 Axes>"
      ]
     },
     "metadata": {
      "needs_background": "light"
     },
     "output_type": "display_data"
    }
   ],
   "source": [
    "import matplotlib.axes\n",
    "from sklearn.metrics import roc_auc_score, log_loss\n",
    "\n",
    "def getAuc(fake_list, real_list):\n",
    "    true_labels = np.concatenate([np.ones(len(fake_list)), np.zeros(len(real_list))])\n",
    "    pred_labels = np.array(fake_list + real_list)\n",
    "    return roc_auc_score(true_labels,pred_labels)\n",
    "\n",
    "def getLogLoss(fake_list, real_list, eps=1e-6):\n",
    "    true_labels = np.concatenate([np.ones(len(fake_list)), np.zeros(len(real_list))])\n",
    "    pred_labels = np.array(fake_list + real_list)\n",
    "    # epsilon clip to avoid nans\n",
    "    pred_labels = np.clip(pred_labels,eps,1-eps)\n",
    "    return log_loss(true_labels,pred_labels)\n",
    "\n",
    "auc = getAuc(preds_fake, preds_real)\n",
    "logloss = getLogLoss(preds_fake, preds_real)\n",
    "f, ax = plt.subplots(1,1,figsize=(4,4))\n",
    "sns.distplot(preds_fake, ax=ax, label='fake')\n",
    "sns.distplot(preds_real, ax=ax, label='true')\n",
    "ax.set_title('AUC = {0:.3f}, Log loss = {1:.3f}'.format(auc,logloss))\n",
    "ax.set_xlim(-0.1,1.1)\n",
    "#ax.set_ylim(0,5)\n",
    "ax.legend()\n",
    "plt.show()"
   ]
  },
  {
   "cell_type": "code",
   "execution_count": 19,
   "metadata": {},
   "outputs": [
    {
     "data": {
      "image/png": "[encoded data removed]",
      "text/plain": [
       "<Figure size 288x288 with 1 Axes>"
      ]
     },
     "metadata": {
      "needs_background": "light"
     },
     "output_type": "display_data"
    }
   ],
   "source": [
    "eps = 0.1\n",
    "preds_fake_clipped = np.clip(np.array(preds_fake),eps,1-eps).tolist()\n",
    "preds_real_clipped = np.clip(np.array(preds_real),eps,1-eps).tolist()\n",
    "\n",
    "auc = getAuc(preds_fake_clipped, preds_real_clipped)\n",
    "logloss = getLogLoss(preds_fake_clipped, preds_real_clipped)\n",
    "f, ax = plt.subplots(1,1,figsize=(4,4))\n",
    "sns.distplot(preds_fake_clipped, ax=ax, label='fake')\n",
    "sns.distplot(preds_real_clipped, ax=ax, label='true')\n",
    "ax.set_title('AUC = {0:.3f}, Log loss = {1:.3f}'.format(auc,logloss))\n",
    "ax.set_xlim(-0.1,1.1)\n",
    "#ax.set_ylim(0,5)\n",
    "ax.legend()\n",
    "plt.show()"
   ]
  },
  {
   "cell_type": "code",
   "execution_count": null,
   "metadata": {},
   "outputs": [],
   "source": []
  }
 ],
 "metadata": {
  "kernelspec": {
   "display_name": "Python 3",
   "language": "python",
   "name": "python3"
  },
  "language_info": {
   "codemirror_mode": {
    "name": "ipython",
    "version": 3
   },
   "file_extension": ".py",
   "mimetype": "text/x-python",
   "name": "python",
   "nbconvert_exporter": "python",
   "pygments_lexer": "ipython3",
   "version": "3.6.9"
  }
 },
 "nbformat": 4,
 "nbformat_minor": 2
}
