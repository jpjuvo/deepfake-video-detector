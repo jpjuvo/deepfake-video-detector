{
 "cells": [
  {
   "cell_type": "code",
   "execution_count": 1,
   "metadata": {},
   "outputs": [],
   "source": [
    "import os\n",
    "import glob\n",
    "import torch\n",
    "import cv2\n",
    "from PIL import Image\n",
    "import numpy as np\n",
    "import pandas as pd\n",
    "from pathlib import Path\n",
    "from matplotlib import pyplot as plt\n",
    "from tqdm.notebook import tqdm as tqdm\n",
    "import json\n",
    "import seaborn as sns"
   ]
  },
  {
   "cell_type": "code",
   "execution_count": 2,
   "metadata": {},
   "outputs": [
    {
     "data": {
      "text/html": [
       "<div>\n",
       "<style scoped>\n",
       "    .dataframe tbody tr th:only-of-type {\n",
       "        vertical-align: middle;\n",
       "    }\n",
       "\n",
       "    .dataframe tbody tr th {\n",
       "        vertical-align: top;\n",
       "    }\n",
       "\n",
       "    .dataframe thead th {\n",
       "        text-align: right;\n",
       "    }\n",
       "</style>\n",
       "<table border=\"1\" class=\"dataframe\">\n",
       "  <thead>\n",
       "    <tr style=\"text-align: right;\">\n",
       "      <th></th>\n",
       "      <th>index</th>\n",
       "      <th>original</th>\n",
       "      <th>first_person_similarities</th>\n",
       "      <th>second_person_similarities</th>\n",
       "      <th>first_person_label</th>\n",
       "      <th>second_person_label</th>\n",
       "      <th>first_person_frame_labels</th>\n",
       "      <th>second_person_frame_labels</th>\n",
       "    </tr>\n",
       "  </thead>\n",
       "  <tbody>\n",
       "    <tr>\n",
       "      <th>0</th>\n",
       "      <td>gmuagvvcen.mp4</td>\n",
       "      <td>xyioxposka.mp4</td>\n",
       "      <td>[0.90662205 0.91454544 0.90863778 0.90787758 0...</td>\n",
       "      <td>NaN</td>\n",
       "      <td>NaN</td>\n",
       "      <td>NaN</td>\n",
       "      <td>NaN</td>\n",
       "      <td>NaN</td>\n",
       "    </tr>\n",
       "    <tr>\n",
       "      <th>1</th>\n",
       "      <td>nlbejgudfx.mp4</td>\n",
       "      <td>acguxjvmju.mp4</td>\n",
       "      <td>[0.87670463 0.87884638 0.88174117 0.88052886 0...</td>\n",
       "      <td>NaN</td>\n",
       "      <td>NaN</td>\n",
       "      <td>NaN</td>\n",
       "      <td>NaN</td>\n",
       "      <td>NaN</td>\n",
       "    </tr>\n",
       "    <tr>\n",
       "      <th>2</th>\n",
       "      <td>smptxlklxc.mp4</td>\n",
       "      <td>NaN</td>\n",
       "      <td>[1. 1. 1. 1. 1. 1. 1. 1. 1. 1. 1. 1. 1. 1. 1. ...</td>\n",
       "      <td>NaN</td>\n",
       "      <td>NaN</td>\n",
       "      <td>NaN</td>\n",
       "      <td>NaN</td>\n",
       "      <td>NaN</td>\n",
       "    </tr>\n",
       "    <tr>\n",
       "      <th>3</th>\n",
       "      <td>xmodyeeaxr.mp4</td>\n",
       "      <td>ptpwappdyx.mp4</td>\n",
       "      <td>[0.96768544 0.9703409  0.96584001 0.96793804 0...</td>\n",
       "      <td>NaN</td>\n",
       "      <td>NaN</td>\n",
       "      <td>NaN</td>\n",
       "      <td>NaN</td>\n",
       "      <td>NaN</td>\n",
       "    </tr>\n",
       "    <tr>\n",
       "      <th>4</th>\n",
       "      <td>hvxrsfgvyi.mp4</td>\n",
       "      <td>qelncdmypn.mp4</td>\n",
       "      <td>[0.93245532 0.93241838 0.93094194 0.93391931 0...</td>\n",
       "      <td>[0.96927007 0.9687523  0.97080696 0.96831491 0...</td>\n",
       "      <td>NaN</td>\n",
       "      <td>NaN</td>\n",
       "      <td>NaN</td>\n",
       "      <td>NaN</td>\n",
       "    </tr>\n",
       "  </tbody>\n",
       "</table>\n",
       "</div>"
      ],
      "text/plain": [
       "            index        original  \\\n",
       "0  gmuagvvcen.mp4  xyioxposka.mp4   \n",
       "1  nlbejgudfx.mp4  acguxjvmju.mp4   \n",
       "2  smptxlklxc.mp4             NaN   \n",
       "3  xmodyeeaxr.mp4  ptpwappdyx.mp4   \n",
       "4  hvxrsfgvyi.mp4  qelncdmypn.mp4   \n",
       "\n",
       "                           first_person_similarities  \\\n",
       "0  [0.90662205 0.91454544 0.90863778 0.90787758 0...   \n",
       "1  [0.87670463 0.87884638 0.88174117 0.88052886 0...   \n",
       "2  [1. 1. 1. 1. 1. 1. 1. 1. 1. 1. 1. 1. 1. 1. 1. ...   \n",
       "3  [0.96768544 0.9703409  0.96584001 0.96793804 0...   \n",
       "4  [0.93245532 0.93241838 0.93094194 0.93391931 0...   \n",
       "\n",
       "                          second_person_similarities  first_person_label  \\\n",
       "0                                                NaN                 NaN   \n",
       "1                                                NaN                 NaN   \n",
       "2                                                NaN                 NaN   \n",
       "3                                                NaN                 NaN   \n",
       "4  [0.96927007 0.9687523  0.97080696 0.96831491 0...                 NaN   \n",
       "\n",
       "   second_person_label first_person_frame_labels second_person_frame_labels  \n",
       "0                  NaN                       NaN                        NaN  \n",
       "1                  NaN                       NaN                        NaN  \n",
       "2                  NaN                       NaN                        NaN  \n",
       "3                  NaN                       NaN                        NaN  \n",
       "4                  NaN                       NaN                        NaN  "
      ]
     },
     "execution_count": 2,
     "metadata": {},
     "output_type": "execute_result"
    }
   ],
   "source": [
    "df = pd.read_csv('../data/frame_diff.csv')\n",
    "df['first_person_label'] = np.nan\n",
    "df['second_person_label'] = np.nan\n",
    "df['first_person_frame_labels'] = np.nan\n",
    "df['second_person_frame_labels'] = np.nan\n",
    "df['first_person_frame_labels'] = df['first_person_frame_labels'].astype('object')\n",
    "df['second_person_frame_labels'] = df['second_person_frame_labels'].astype('object')\n",
    "df.head()"
   ]
  },
  {
   "cell_type": "code",
   "execution_count": 53,
   "metadata": {},
   "outputs": [],
   "source": [
    "def classifyFrame(similarity, SIMILARITY_TH):\n",
    "    if similarity > SIMILARITY_TH:\n",
    "        return 0\n",
    "    elif similarity > 0.95:\n",
    "        return 1\n",
    "    elif similarity > 0.9:\n",
    "        return 2\n",
    "    elif similarity > 0.85:\n",
    "        return 3\n",
    "    else:\n",
    "        return 4\n",
    "    \n",
    "def str2array(text):\n",
    "    if type(text)==float:\n",
    "        return None\n",
    "    values = text.replace('\\n','').replace('[','').replace(']','').split(' ')\n",
    "    values = [val for val in values if val != \"\"]\n",
    "    return np.array(values, np.float32)\n",
    "\n",
    "def arrayMean(arr):\n",
    "    if arr is None:\n",
    "        return None\n",
    "    return np.mean(arr)\n",
    "\n",
    "def arrayMin(arr):\n",
    "    if arr is None:\n",
    "        return None\n",
    "    return min(arr)\n",
    "\n",
    "def arrayMax(arr):\n",
    "    if arr is None:\n",
    "        return None\n",
    "    return max(arr)\n",
    "\n",
    "def arrayStd(arr):\n",
    "    if arr is None:\n",
    "        return None\n",
    "    return np.std(arr)"
   ]
  },
  {
   "cell_type": "markdown",
   "metadata": {},
   "source": [
    "Read frame similarity dataframe"
   ]
  },
  {
   "cell_type": "code",
   "execution_count": 5,
   "metadata": {},
   "outputs": [
    {
     "data": {
      "text/html": [
       "<div>\n",
       "<style scoped>\n",
       "    .dataframe tbody tr th:only-of-type {\n",
       "        vertical-align: middle;\n",
       "    }\n",
       "\n",
       "    .dataframe tbody tr th {\n",
       "        vertical-align: top;\n",
       "    }\n",
       "\n",
       "    .dataframe thead th {\n",
       "        text-align: right;\n",
       "    }\n",
       "</style>\n",
       "<table border=\"1\" class=\"dataframe\">\n",
       "  <thead>\n",
       "    <tr style=\"text-align: right;\">\n",
       "      <th></th>\n",
       "      <th>index</th>\n",
       "      <th>original</th>\n",
       "      <th>first_person_similarities</th>\n",
       "      <th>second_person_similarities</th>\n",
       "    </tr>\n",
       "  </thead>\n",
       "  <tbody>\n",
       "    <tr>\n",
       "      <th>0</th>\n",
       "      <td>gmuagvvcen.mp4</td>\n",
       "      <td>xyioxposka.mp4</td>\n",
       "      <td>[0.90662205 0.91454544 0.90863778 0.90787758 0...</td>\n",
       "      <td>NaN</td>\n",
       "    </tr>\n",
       "    <tr>\n",
       "      <th>1</th>\n",
       "      <td>nlbejgudfx.mp4</td>\n",
       "      <td>acguxjvmju.mp4</td>\n",
       "      <td>[0.87670463 0.87884638 0.88174117 0.88052886 0...</td>\n",
       "      <td>NaN</td>\n",
       "    </tr>\n",
       "    <tr>\n",
       "      <th>3</th>\n",
       "      <td>xmodyeeaxr.mp4</td>\n",
       "      <td>ptpwappdyx.mp4</td>\n",
       "      <td>[0.96768544 0.9703409  0.96584001 0.96793804 0...</td>\n",
       "      <td>NaN</td>\n",
       "    </tr>\n",
       "    <tr>\n",
       "      <th>4</th>\n",
       "      <td>hvxrsfgvyi.mp4</td>\n",
       "      <td>qelncdmypn.mp4</td>\n",
       "      <td>[0.93245532 0.93241838 0.93094194 0.93391931 0...</td>\n",
       "      <td>[0.96927007 0.9687523  0.97080696 0.96831491 0...</td>\n",
       "    </tr>\n",
       "    <tr>\n",
       "      <th>5</th>\n",
       "      <td>duhilxsfwa.mp4</td>\n",
       "      <td>pfbdxvexft.mp4</td>\n",
       "      <td>[0.89427626 0.90188644 0.89832524 0.9075775  0...</td>\n",
       "      <td>NaN</td>\n",
       "    </tr>\n",
       "  </tbody>\n",
       "</table>\n",
       "</div>"
      ],
      "text/plain": [
       "            index        original  \\\n",
       "0  gmuagvvcen.mp4  xyioxposka.mp4   \n",
       "1  nlbejgudfx.mp4  acguxjvmju.mp4   \n",
       "3  xmodyeeaxr.mp4  ptpwappdyx.mp4   \n",
       "4  hvxrsfgvyi.mp4  qelncdmypn.mp4   \n",
       "5  duhilxsfwa.mp4  pfbdxvexft.mp4   \n",
       "\n",
       "                           first_person_similarities  \\\n",
       "0  [0.90662205 0.91454544 0.90863778 0.90787758 0...   \n",
       "1  [0.87670463 0.87884638 0.88174117 0.88052886 0...   \n",
       "3  [0.96768544 0.9703409  0.96584001 0.96793804 0...   \n",
       "4  [0.93245532 0.93241838 0.93094194 0.93391931 0...   \n",
       "5  [0.89427626 0.90188644 0.89832524 0.9075775  0...   \n",
       "\n",
       "                          second_person_similarities  \n",
       "0                                                NaN  \n",
       "1                                                NaN  \n",
       "3                                                NaN  \n",
       "4  [0.96927007 0.9687523  0.97080696 0.96831491 0...  \n",
       "5                                                NaN  "
      ]
     },
     "execution_count": 5,
     "metadata": {},
     "output_type": "execute_result"
    }
   ],
   "source": [
    "df_diff = pd.read_csv('../data/frame_diff.csv')\n",
    "df_diff = df_diff[~df_diff['original'].isnull()]\n",
    "df_diff.head()"
   ]
  },
  {
   "cell_type": "code",
   "execution_count": 6,
   "metadata": {},
   "outputs": [],
   "source": [
    "# first person\n",
    "df_diff['avg_first_person_similarity'] = [arrayMean(str2array(df_diff.loc[i,'first_person_similarities'])) for i in df_diff.index.values]\n",
    "df_diff['min_first_person_similarity'] = [arrayMin(str2array(df_diff.loc[i,'first_person_similarities'])) for i in df_diff.index.values]\n",
    "df_diff['max_first_person_similarity'] = [arrayMax(str2array(df_diff.loc[i,'first_person_similarities'])) for i in df_diff.index.values]\n",
    "df_diff['std_first_person_similarity'] = [arrayStd(str2array(df_diff.loc[i,'first_person_similarities'])) for i in df_diff.index.values]\n",
    "\n",
    "# second person\n",
    "df_diff['avg_second_person_similarity'] = [arrayMean(str2array(df_diff.loc[i,'second_person_similarities'])) for i in df_diff.index.values]\n",
    "df_diff['min_second_person_similarity'] = [arrayMin(str2array(df_diff.loc[i,'second_person_similarities'])) for i in df_diff.index.values]\n",
    "df_diff['max_second_person_similarity'] = [arrayMax(str2array(df_diff.loc[i,'second_person_similarities'])) for i in df_diff.index.values]\n",
    "df_diff['std_second_person_similarity'] = [arrayStd(str2array(df_diff.loc[i,'second_person_similarities'])) for i in df_diff.index.values]"
   ]
  },
  {
   "cell_type": "markdown",
   "metadata": {},
   "source": [
    "If we make the assumption, that on at least some of the two-person fake videos, one person is real. Then, when comparing the two-person similarities, real one is close to 1.0 and the fake one lower. The minimum similarity comparison is perhaps the most reliable measure because in a sequence of frames, only a few of them can be altered faces."
   ]
  },
  {
   "cell_type": "code",
   "execution_count": 25,
   "metadata": {},
   "outputs": [
    {
     "data": {
      "text/plain": [
       "Text(0.5, 0.98, 'Real person > 0.96')"
      ]
     },
     "execution_count": 25,
     "metadata": {},
     "output_type": "execute_result"
    },
    {
     "data": {
      "image/png": "[encoded data removed]",
      "text/plain": [
       "<Figure size 432x432 with 1 Axes>"
      ]
     },
     "metadata": {
      "needs_background": "light"
     },
     "output_type": "display_data"
    }
   ],
   "source": [
    "import matplotlib.lines as mlines\n",
    "\n",
    "SIMILARITY_TH_1 = 0.96\n",
    "SIMILARITY_TH_2 = 0.965\n",
    "SIMILARITY_TH_3 = 0.97\n",
    "\n",
    "f,ax = plt.subplots(1,1,figsize=(6,6))\n",
    "sns.scatterplot(x='min_first_person_similarity',y='min_second_person_similarity',data=df_diff, ax=ax)\n",
    "\n",
    "l = mlines.Line2D([0,1], [SIMILARITY_TH_1,SIMILARITY_TH_1], color='r')\n",
    "l2 = mlines.Line2D([SIMILARITY_TH_1,SIMILARITY_TH_1],[0,1],color='r',label='{0:.3f}'.format(SIMILARITY_TH_1))\n",
    "ax.add_line(l)\n",
    "ax.add_line(l2)\n",
    "\n",
    "l3 = mlines.Line2D([0,1], [SIMILARITY_TH_2,SIMILARITY_TH_2], color='orange')\n",
    "l4 = mlines.Line2D([SIMILARITY_TH_2,SIMILARITY_TH_2],[0,1],color='orange',label='{0:.3f}'.format(SIMILARITY_TH_2))\n",
    "ax.add_line(l3)\n",
    "ax.add_line(l4)\n",
    "\n",
    "l5 = mlines.Line2D([0,1], [SIMILARITY_TH_3,SIMILARITY_TH_3], color='black')\n",
    "l6 = mlines.Line2D([SIMILARITY_TH_3,SIMILARITY_TH_3],[0,1],color='black',label='{0:.3f}'.format(SIMILARITY_TH_3))\n",
    "ax.add_line(l5)\n",
    "ax.add_line(l6)\n",
    "\n",
    "\n",
    "ax.set_xlim(0.8,1)\n",
    "ax.set_ylim(0.8,1)\n",
    "ax.legend()\n",
    "f.suptitle('Real person > {0}'.format(SIMILARITY_TH))"
   ]
  },
  {
   "cell_type": "markdown",
   "metadata": {},
   "source": [
    "Now, examine one person cases and see what are the minimum similarities. These should be all from altered faces."
   ]
  },
  {
   "cell_type": "code",
   "execution_count": 12,
   "metadata": {},
   "outputs": [],
   "source": [
    "df_diff_one_person = df_diff[df_diff['second_person_similarities'].isnull()]"
   ]
  },
  {
   "cell_type": "code",
   "execution_count": 16,
   "metadata": {},
   "outputs": [
    {
     "data": {
      "text/plain": [
       "count    87939.000000\n",
       "mean         0.914176\n",
       "std          0.043572\n",
       "min          0.155801\n",
       "25%          0.895600\n",
       "50%          0.920969\n",
       "75%          0.941949\n",
       "max          0.985610\n",
       "Name: min_first_person_similarity, dtype: float64"
      ]
     },
     "execution_count": 16,
     "metadata": {},
     "output_type": "execute_result"
    }
   ],
   "source": [
    "df_diff_one_person['min_first_person_similarity'].describe()"
   ]
  },
  {
   "cell_type": "markdown",
   "metadata": {},
   "source": [
    "Fake frame similarities can go as high as 0.9856."
   ]
  },
  {
   "cell_type": "code",
   "execution_count": 19,
   "metadata": {},
   "outputs": [
    {
     "name": "stdout",
     "output_type": "stream",
     "text": [
      "percentile 75, similarity 0.942\n",
      "percentile 76, similarity 0.943\n",
      "percentile 77, similarity 0.944\n",
      "percentile 78, similarity 0.945\n",
      "percentile 79, similarity 0.946\n",
      "percentile 80, similarity 0.946\n",
      "percentile 81, similarity 0.947\n",
      "percentile 82, similarity 0.948\n",
      "percentile 83, similarity 0.950\n",
      "percentile 84, similarity 0.951\n",
      "percentile 85, similarity 0.952\n",
      "percentile 86, similarity 0.953\n",
      "percentile 87, similarity 0.954\n",
      "percentile 88, similarity 0.955\n",
      "percentile 89, similarity 0.957\n",
      "percentile 90, similarity 0.958\n",
      "percentile 91, similarity 0.959\n",
      "percentile 92, similarity 0.961\n",
      "percentile 93, similarity 0.962\n",
      "percentile 94, similarity 0.964\n",
      "percentile 95, similarity 0.965\n",
      "percentile 96, similarity 0.967\n",
      "percentile 97, similarity 0.969\n",
      "percentile 98, similarity 0.972\n",
      "percentile 99, similarity 0.976\n"
     ]
    }
   ],
   "source": [
    "for perc in range(75,100):\n",
    "    print('percentile {0}, similarity {1:.3f}'.format(perc,\n",
    "                                                      np.percentile(df_diff_one_person['min_first_person_similarity'].dropna().values, perc)))"
   ]
  },
  {
   "cell_type": "markdown",
   "metadata": {},
   "source": [
    "- Having a threshold of 0.960 would remove 8-9 percent of the assumed altered videofakes.\n",
    "- Having a threshold of 0.965 would remove 5 percent of the assumed altered videofakes.\n",
    "- Having a threshold of 0.97 would remove 2 percent of the assumed altered videofakes."
   ]
  },
  {
   "cell_type": "markdown",
   "metadata": {},
   "source": [
    "Assuming that in two person videos, the other one is only a fake. Then, we can take the max out of person minimum frame similarities and assume that is always from genuine frames. "
   ]
  },
  {
   "cell_type": "code",
   "execution_count": 26,
   "metadata": {},
   "outputs": [],
   "source": [
    "df_diff_two_person = df_diff[~df_diff['second_person_similarities'].isnull()]"
   ]
  },
  {
   "cell_type": "code",
   "execution_count": 38,
   "metadata": {},
   "outputs": [
    {
     "name": "stderr",
     "output_type": "stream",
     "text": [
      "/home/joni/.local/lib/python3.6/site-packages/ipykernel_launcher.py:2: SettingWithCopyWarning: \n",
      "A value is trying to be set on a copy of a slice from a DataFrame.\n",
      "Try using .loc[row_indexer,col_indexer] = value instead\n",
      "\n",
      "See the caveats in the documentation: http://pandas.pydata.org/pandas-docs/stable/user_guide/indexing.html#returning-a-view-versus-a-copy\n",
      "  \n"
     ]
    }
   ],
   "source": [
    "df_diff_two_person['max_persons_min_frame_similarity'] = np.max(np.concatenate([np.expand_dims(df_diff_two_person['min_first_person_similarity'].values,axis=0),\n",
    "       np.expand_dims(df_diff_two_person['min_second_person_similarity'].values,axis=0)]),0)"
   ]
  },
  {
   "cell_type": "code",
   "execution_count": 49,
   "metadata": {},
   "outputs": [
    {
     "name": "stdout",
     "output_type": "stream",
     "text": [
      "percentile 0, similarity 0.609\n",
      "percentile 1, similarity 0.872\n",
      "percentile 2, similarity 0.897\n",
      "percentile 3, similarity 0.911\n",
      "percentile 4, similarity 0.920\n",
      "percentile 5, similarity 0.926\n",
      "percentile 6, similarity 0.931\n",
      "percentile 7, similarity 0.934\n",
      "percentile 8, similarity 0.938\n",
      "percentile 9, similarity 0.941\n",
      "percentile 10, similarity 0.943\n",
      "percentile 11, similarity 0.945\n",
      "percentile 12, similarity 0.946\n",
      "percentile 13, similarity 0.948\n",
      "percentile 14, similarity 0.950\n",
      "percentile 15, similarity 0.951\n",
      "percentile 16, similarity 0.952\n",
      "percentile 17, similarity 0.953\n",
      "percentile 18, similarity 0.954\n",
      "percentile 19, similarity 0.955\n",
      "percentile 20, similarity 0.956\n",
      "percentile 21, similarity 0.957\n",
      "percentile 22, similarity 0.958\n",
      "percentile 23, similarity 0.959\n",
      "percentile 24, similarity 0.959\n",
      "percentile 25, similarity 0.960\n",
      "percentile 26, similarity 0.961\n",
      "percentile 27, similarity 0.961\n",
      "percentile 28, similarity 0.962\n",
      "percentile 29, similarity 0.963\n",
      "percentile 30, similarity 0.963\n",
      "percentile 31, similarity 0.964\n",
      "percentile 32, similarity 0.964\n",
      "percentile 33, similarity 0.965\n",
      "percentile 34, similarity 0.965\n",
      "percentile 35, similarity 0.965\n",
      "percentile 36, similarity 0.966\n",
      "percentile 37, similarity 0.966\n",
      "percentile 38, similarity 0.967\n",
      "percentile 39, similarity 0.967\n",
      "percentile 40, similarity 0.967\n",
      "percentile 41, similarity 0.968\n",
      "percentile 42, similarity 0.968\n",
      "percentile 43, similarity 0.968\n",
      "percentile 44, similarity 0.969\n",
      "percentile 45, similarity 0.969\n",
      "percentile 46, similarity 0.969\n",
      "percentile 47, similarity 0.970\n",
      "percentile 48, similarity 0.970\n",
      "percentile 49, similarity 0.970\n",
      "percentile 50, similarity 0.971\n",
      "percentile 51, similarity 0.971\n",
      "percentile 52, similarity 0.971\n",
      "percentile 53, similarity 0.972\n",
      "percentile 54, similarity 0.972\n",
      "percentile 55, similarity 0.972\n",
      "percentile 56, similarity 0.973\n",
      "percentile 57, similarity 0.973\n",
      "percentile 58, similarity 0.973\n",
      "percentile 59, similarity 0.973\n",
      "percentile 60, similarity 0.974\n",
      "percentile 61, similarity 0.974\n",
      "percentile 62, similarity 0.974\n",
      "percentile 63, similarity 0.975\n",
      "percentile 64, similarity 0.975\n",
      "percentile 65, similarity 0.975\n",
      "percentile 66, similarity 0.975\n",
      "percentile 67, similarity 0.976\n",
      "percentile 68, similarity 0.976\n",
      "percentile 69, similarity 0.976\n",
      "percentile 70, similarity 0.977\n",
      "percentile 71, similarity 0.977\n",
      "percentile 72, similarity 0.977\n",
      "percentile 73, similarity 0.977\n",
      "percentile 74, similarity 0.978\n",
      "percentile 75, similarity 0.978\n",
      "percentile 76, similarity 0.978\n",
      "percentile 77, similarity 0.978\n",
      "percentile 78, similarity 0.979\n",
      "percentile 79, similarity 0.979\n",
      "percentile 80, similarity 0.979\n",
      "percentile 81, similarity 0.979\n",
      "percentile 82, similarity 0.980\n",
      "percentile 83, similarity 0.980\n",
      "percentile 84, similarity 0.980\n",
      "percentile 85, similarity 0.981\n",
      "percentile 86, similarity 0.981\n",
      "percentile 87, similarity 0.981\n",
      "percentile 88, similarity 0.981\n",
      "percentile 89, similarity 0.982\n",
      "percentile 90, similarity 0.982\n",
      "percentile 91, similarity 0.983\n",
      "percentile 92, similarity 0.983\n",
      "percentile 93, similarity 0.984\n",
      "percentile 94, similarity 0.984\n",
      "percentile 95, similarity 0.985\n",
      "percentile 96, similarity 0.986\n",
      "percentile 97, similarity 0.987\n",
      "percentile 98, similarity 0.988\n",
      "percentile 99, similarity 0.989\n"
     ]
    }
   ],
   "source": [
    "for perc in range(0,100):\n",
    "    print('percentile {0}, similarity {1:.3f}'.format(perc,\n",
    "                                                      np.percentile(df_diff_two_person['max_persons_min_frame_similarity'].dropna().values, perc)))"
   ]
  },
  {
   "cell_type": "code",
   "execution_count": 48,
   "metadata": {},
   "outputs": [
    {
     "data": {
      "text/plain": [
       "<matplotlib.legend.Legend at 0x7f08ddb8a2e8>"
      ]
     },
     "execution_count": 48,
     "metadata": {},
     "output_type": "execute_result"
    },
    {
     "data": {
      "image/png": "[encoded data removed]",
      "text/plain": [
       "<Figure size 432x288 with 1 Axes>"
      ]
     },
     "metadata": {
      "needs_background": "light"
     },
     "output_type": "display_data"
    }
   ],
   "source": [
    "n_bins=1000\n",
    "sns.distplot(df_diff_two_person['max_persons_min_frame_similarity'].dropna(),bins=n_bins, label='Mostly REALs')\n",
    "sns.distplot(df_diff_one_person['min_first_person_similarity'].dropna(), bins=n_bins,label='Mostly FAKEs')\n",
    "#sns.distplot(df_diff['std_second_person_similarity'], label='std')\n",
    "plt.xlabel('')\n",
    "plt.suptitle('Similarity value')\n",
    "plt.xlim(0.90,1)\n",
    "plt.legend()"
   ]
  },
  {
   "cell_type": "markdown",
   "metadata": {},
   "source": [
    "The fakes with a high similarity value are most likey facial reenactments with only a small altered area. We would like to preserve many hard FAKE samples but also, filter out as many of the unaltered images, labeled as fakes. "
   ]
  },
  {
   "cell_type": "code",
   "execution_count": 52,
   "metadata": {},
   "outputs": [
    {
     "data": {
      "text/plain": [
       "<matplotlib.legend.Legend at 0x7f08d8593dd8>"
      ]
     },
     "execution_count": 52,
     "metadata": {},
     "output_type": "execute_result"
    },
    {
     "data": {
      "image/png": "[encoded data removed]",
      "text/plain": [
       "<Figure size 432x288 with 1 Axes>"
      ]
     },
     "metadata": {
      "needs_background": "light"
     },
     "output_type": "display_data"
    }
   ],
   "source": [
    "n_bins=1000\n",
    "f,ax = plt.subplots(1,1,figsize=(6,4))\n",
    "\n",
    "sns.distplot(df_diff_two_person['max_persons_min_frame_similarity'].dropna(),bins=n_bins, label='Mostly REALs',ax=ax)\n",
    "sns.distplot(df_diff_one_person['min_first_person_similarity'].dropna(), bins=n_bins,label='Mostly FAKEs',ax=ax)\n",
    "\n",
    "l = mlines.Line2D([SIMILARITY_TH_2,SIMILARITY_TH_2],[0,100],color='green',label='th={0:.3f}'.format(SIMILARITY_TH_2))\n",
    "ax.add_line(l)\n",
    "\n",
    "#sns.distplot(df_diff['std_second_person_similarity'], label='std')\n",
    "ax.set_xlabel('')\n",
    "f.suptitle('Similarity value')\n",
    "ax.set_xlim(0.90,1)\n",
    "ax.legend()"
   ]
  },
  {
   "cell_type": "markdown",
   "metadata": {},
   "source": [
    "Threshold of 0.965 removes 2/3 of REALs and keeps 95% of FAKEs."
   ]
  },
  {
   "cell_type": "code",
   "execution_count": 54,
   "metadata": {},
   "outputs": [
    {
     "data": {
      "application/vnd.jupyter.widget-view+json": {
       "model_id": "58deb37f6f8a41178658a6c230f4e110",
       "version_major": 2,
       "version_minor": 0
      },
      "text/plain": [
       "HBox(children=(FloatProgress(value=0.0, max=119154.0), HTML(value='')))"
      ]
     },
     "metadata": {},
     "output_type": "display_data"
    },
    {
     "name": "stdout",
     "output_type": "stream",
     "text": [
      "\n"
     ]
    }
   ],
   "source": [
    "for ind in tqdm(df.index.values):\n",
    "    firstPersonArr = str2array(df.loc[ind,'first_person_similarities'])\n",
    "    secondPersonArr = str2array(df.loc[ind,'second_person_similarities'])\n",
    "    firstClasses = [classifyFrame(val,SIMILARITY_TH_2) for val in firstPersonArr] if firstPersonArr is not None else np.nan \n",
    "    secondClasses = [classifyFrame(val,SIMILARITY_TH_2) for val in secondPersonArr] if secondPersonArr is not None else np.nan\n",
    "    firstClass = max(firstClasses) if firstClasses is not np.nan else np.nan\n",
    "    secondClass = max(secondClasses) if secondClasses is not np.nan else np.nan\n",
    "    df.at[ind,'first_person_label'] = firstClass\n",
    "    df.at[ind,'second_person_label'] = secondClass\n",
    "    df.at[ind,'first_person_frame_labels'] = firstClasses\n",
    "    df.at[ind,'second_person_frame_labels'] = secondClasses"
   ]
  },
  {
   "cell_type": "code",
   "execution_count": 55,
   "metadata": {},
   "outputs": [
    {
     "data": {
      "text/html": [
       "<div>\n",
       "<style scoped>\n",
       "    .dataframe tbody tr th:only-of-type {\n",
       "        vertical-align: middle;\n",
       "    }\n",
       "\n",
       "    .dataframe tbody tr th {\n",
       "        vertical-align: top;\n",
       "    }\n",
       "\n",
       "    .dataframe thead th {\n",
       "        text-align: right;\n",
       "    }\n",
       "</style>\n",
       "<table border=\"1\" class=\"dataframe\">\n",
       "  <thead>\n",
       "    <tr style=\"text-align: right;\">\n",
       "      <th></th>\n",
       "      <th>index</th>\n",
       "      <th>original</th>\n",
       "      <th>first_person_similarities</th>\n",
       "      <th>second_person_similarities</th>\n",
       "      <th>first_person_label</th>\n",
       "      <th>second_person_label</th>\n",
       "      <th>first_person_frame_labels</th>\n",
       "      <th>second_person_frame_labels</th>\n",
       "    </tr>\n",
       "  </thead>\n",
       "  <tbody>\n",
       "    <tr>\n",
       "      <th>0</th>\n",
       "      <td>gmuagvvcen.mp4</td>\n",
       "      <td>xyioxposka.mp4</td>\n",
       "      <td>[0.90662205 0.91454544 0.90863778 0.90787758 0...</td>\n",
       "      <td>NaN</td>\n",
       "      <td>3.0</td>\n",
       "      <td>NaN</td>\n",
       "      <td>[2, 2, 2, 2, 2, 2, 2, 2, 2, 2, 3, 2, 2, 2, 2, ...</td>\n",
       "      <td>NaN</td>\n",
       "    </tr>\n",
       "    <tr>\n",
       "      <th>1</th>\n",
       "      <td>nlbejgudfx.mp4</td>\n",
       "      <td>acguxjvmju.mp4</td>\n",
       "      <td>[0.87670463 0.87884638 0.88174117 0.88052886 0...</td>\n",
       "      <td>NaN</td>\n",
       "      <td>3.0</td>\n",
       "      <td>NaN</td>\n",
       "      <td>[3, 3, 3, 3, 3, 3, 3, 3, 3, 3, 3, 3, 3, 3, 3, ...</td>\n",
       "      <td>NaN</td>\n",
       "    </tr>\n",
       "    <tr>\n",
       "      <th>2</th>\n",
       "      <td>smptxlklxc.mp4</td>\n",
       "      <td>NaN</td>\n",
       "      <td>[1. 1. 1. 1. 1. 1. 1. 1. 1. 1. 1. 1. 1. 1. 1. ...</td>\n",
       "      <td>NaN</td>\n",
       "      <td>0.0</td>\n",
       "      <td>NaN</td>\n",
       "      <td>[0, 0, 0, 0, 0, 0, 0, 0, 0, 0, 0, 0, 0, 0, 0, ...</td>\n",
       "      <td>NaN</td>\n",
       "    </tr>\n",
       "    <tr>\n",
       "      <th>3</th>\n",
       "      <td>xmodyeeaxr.mp4</td>\n",
       "      <td>ptpwappdyx.mp4</td>\n",
       "      <td>[0.96768544 0.9703409  0.96584001 0.96793804 0...</td>\n",
       "      <td>NaN</td>\n",
       "      <td>1.0</td>\n",
       "      <td>NaN</td>\n",
       "      <td>[0, 0, 0, 0, 1, 1, 1, 1, 1, 1, 1, 0, 0, 1, 1, ...</td>\n",
       "      <td>NaN</td>\n",
       "    </tr>\n",
       "    <tr>\n",
       "      <th>4</th>\n",
       "      <td>hvxrsfgvyi.mp4</td>\n",
       "      <td>qelncdmypn.mp4</td>\n",
       "      <td>[0.93245532 0.93241838 0.93094194 0.93391931 0...</td>\n",
       "      <td>[0.96927007 0.9687523  0.97080696 0.96831491 0...</td>\n",
       "      <td>2.0</td>\n",
       "      <td>0.0</td>\n",
       "      <td>[2, 2, 2, 2, 2, 2, 2, 2, 2, 2, 2, 2, 2, 2, 2, ...</td>\n",
       "      <td>[0, 0, 0, 0, 0, 0, 0, 0, 0, 0, 0, 0, 0, 0, 0, ...</td>\n",
       "    </tr>\n",
       "  </tbody>\n",
       "</table>\n",
       "</div>"
      ],
      "text/plain": [
       "            index        original  \\\n",
       "0  gmuagvvcen.mp4  xyioxposka.mp4   \n",
       "1  nlbejgudfx.mp4  acguxjvmju.mp4   \n",
       "2  smptxlklxc.mp4             NaN   \n",
       "3  xmodyeeaxr.mp4  ptpwappdyx.mp4   \n",
       "4  hvxrsfgvyi.mp4  qelncdmypn.mp4   \n",
       "\n",
       "                           first_person_similarities  \\\n",
       "0  [0.90662205 0.91454544 0.90863778 0.90787758 0...   \n",
       "1  [0.87670463 0.87884638 0.88174117 0.88052886 0...   \n",
       "2  [1. 1. 1. 1. 1. 1. 1. 1. 1. 1. 1. 1. 1. 1. 1. ...   \n",
       "3  [0.96768544 0.9703409  0.96584001 0.96793804 0...   \n",
       "4  [0.93245532 0.93241838 0.93094194 0.93391931 0...   \n",
       "\n",
       "                          second_person_similarities  first_person_label  \\\n",
       "0                                                NaN                 3.0   \n",
       "1                                                NaN                 3.0   \n",
       "2                                                NaN                 0.0   \n",
       "3                                                NaN                 1.0   \n",
       "4  [0.96927007 0.9687523  0.97080696 0.96831491 0...                 2.0   \n",
       "\n",
       "   second_person_label                          first_person_frame_labels  \\\n",
       "0                  NaN  [2, 2, 2, 2, 2, 2, 2, 2, 2, 2, 3, 2, 2, 2, 2, ...   \n",
       "1                  NaN  [3, 3, 3, 3, 3, 3, 3, 3, 3, 3, 3, 3, 3, 3, 3, ...   \n",
       "2                  NaN  [0, 0, 0, 0, 0, 0, 0, 0, 0, 0, 0, 0, 0, 0, 0, ...   \n",
       "3                  NaN  [0, 0, 0, 0, 1, 1, 1, 1, 1, 1, 1, 0, 0, 1, 1, ...   \n",
       "4                  0.0  [2, 2, 2, 2, 2, 2, 2, 2, 2, 2, 2, 2, 2, 2, 2, ...   \n",
       "\n",
       "                          second_person_frame_labels  \n",
       "0                                                NaN  \n",
       "1                                                NaN  \n",
       "2                                                NaN  \n",
       "3                                                NaN  \n",
       "4  [0, 0, 0, 0, 0, 0, 0, 0, 0, 0, 0, 0, 0, 0, 0, ...  "
      ]
     },
     "execution_count": 55,
     "metadata": {},
     "output_type": "execute_result"
    }
   ],
   "source": [
    "df.head()"
   ]
  },
  {
   "cell_type": "code",
   "execution_count": 56,
   "metadata": {},
   "outputs": [
    {
     "data": {
      "text/plain": [
       "<matplotlib.axes._subplots.AxesSubplot at 0x7f08d7127278>"
      ]
     },
     "execution_count": 56,
     "metadata": {},
     "output_type": "execute_result"
    },
    {
     "data": {
      "image/png": "[encoded data removed]",
      "text/plain": [
       "<Figure size 432x288 with 1 Axes>"
      ]
     },
     "metadata": {
      "needs_background": "light"
     },
     "output_type": "display_data"
    }
   ],
   "source": [
    "df.first_person_label.hist()"
   ]
  },
  {
   "cell_type": "code",
   "execution_count": 57,
   "metadata": {},
   "outputs": [
    {
     "data": {
      "text/plain": [
       "<matplotlib.axes._subplots.AxesSubplot at 0x7f08d4c99278>"
      ]
     },
     "execution_count": 57,
     "metadata": {},
     "output_type": "execute_result"
    },
    {
     "data": {
      "image/png": "[encoded data removed]",
      "text/plain": [
       "<Figure size 432x288 with 1 Axes>"
      ]
     },
     "metadata": {
      "needs_background": "light"
     },
     "output_type": "display_data"
    }
   ],
   "source": [
    "df.second_person_label.hist()"
   ]
  },
  {
   "cell_type": "code",
   "execution_count": 58,
   "metadata": {},
   "outputs": [
    {
     "data": {
      "text/html": [
       "<div>\n",
       "<style scoped>\n",
       "    .dataframe tbody tr th:only-of-type {\n",
       "        vertical-align: middle;\n",
       "    }\n",
       "\n",
       "    .dataframe tbody tr th {\n",
       "        vertical-align: top;\n",
       "    }\n",
       "\n",
       "    .dataframe thead th {\n",
       "        text-align: right;\n",
       "    }\n",
       "</style>\n",
       "<table border=\"1\" class=\"dataframe\">\n",
       "  <thead>\n",
       "    <tr style=\"text-align: right;\">\n",
       "      <th></th>\n",
       "      <th>index</th>\n",
       "      <th>label</th>\n",
       "      <th>split</th>\n",
       "      <th>isVal</th>\n",
       "      <th>cv_fold</th>\n",
       "      <th>person_count</th>\n",
       "      <th>first_person_label</th>\n",
       "      <th>second_person_label</th>\n",
       "      <th>first_person_frame_labels</th>\n",
       "      <th>second_person_frame_labels</th>\n",
       "      <th>original</th>\n",
       "      <th>version</th>\n",
       "    </tr>\n",
       "  </thead>\n",
       "  <tbody>\n",
       "    <tr>\n",
       "      <th>0</th>\n",
       "      <td>gmuagvvcen.mp4</td>\n",
       "      <td>FAKE</td>\n",
       "      <td>1st_level</td>\n",
       "      <td>False</td>\n",
       "      <td>3</td>\n",
       "      <td>1</td>\n",
       "      <td>3.0</td>\n",
       "      <td>NaN</td>\n",
       "      <td>[2, 2, 2, 2, 2, 2, 2, 2, 2, 2, 3, 2, 2, 2, 2, ...</td>\n",
       "      <td>NaN</td>\n",
       "      <td>xyioxposka.mp4</td>\n",
       "      <td>2020-02-17</td>\n",
       "    </tr>\n",
       "    <tr>\n",
       "      <th>1</th>\n",
       "      <td>nlbejgudfx.mp4</td>\n",
       "      <td>FAKE</td>\n",
       "      <td>1st_level</td>\n",
       "      <td>False</td>\n",
       "      <td>1</td>\n",
       "      <td>1</td>\n",
       "      <td>3.0</td>\n",
       "      <td>NaN</td>\n",
       "      <td>[3, 3, 3, 3, 3, 3, 3, 3, 3, 3, 3, 3, 3, 3, 3, ...</td>\n",
       "      <td>NaN</td>\n",
       "      <td>acguxjvmju.mp4</td>\n",
       "      <td>2020-02-17</td>\n",
       "    </tr>\n",
       "    <tr>\n",
       "      <th>2</th>\n",
       "      <td>smptxlklxc.mp4</td>\n",
       "      <td>REAL</td>\n",
       "      <td>1st_level</td>\n",
       "      <td>False</td>\n",
       "      <td>0</td>\n",
       "      <td>1</td>\n",
       "      <td>0.0</td>\n",
       "      <td>NaN</td>\n",
       "      <td>[0, 0, 0, 0, 0, 0, 0, 0, 0, 0, 0, 0, 0, 0, 0, ...</td>\n",
       "      <td>NaN</td>\n",
       "      <td>NaN</td>\n",
       "      <td>2020-02-17</td>\n",
       "    </tr>\n",
       "    <tr>\n",
       "      <th>3</th>\n",
       "      <td>xmodyeeaxr.mp4</td>\n",
       "      <td>FAKE</td>\n",
       "      <td>1st_level</td>\n",
       "      <td>False</td>\n",
       "      <td>1</td>\n",
       "      <td>1</td>\n",
       "      <td>1.0</td>\n",
       "      <td>NaN</td>\n",
       "      <td>[0, 0, 0, 0, 0, 0, 0, 0, 1, 0, 0, 0, 0, 1, 0, ...</td>\n",
       "      <td>NaN</td>\n",
       "      <td>ptpwappdyx.mp4</td>\n",
       "      <td>2020-02-17</td>\n",
       "    </tr>\n",
       "    <tr>\n",
       "      <th>4</th>\n",
       "      <td>hvxrsfgvyi.mp4</td>\n",
       "      <td>FAKE</td>\n",
       "      <td>1st_level</td>\n",
       "      <td>False</td>\n",
       "      <td>2</td>\n",
       "      <td>2</td>\n",
       "      <td>2.0</td>\n",
       "      <td>0.0</td>\n",
       "      <td>[2, 2, 2, 2, 2, 2, 2, 2, 2, 2, 2, 2, 2, 2, 2, ...</td>\n",
       "      <td>[0, 0, 0, 0, 0, 0, 0, 0, 0, 0, 0, 0, 0, 0, 0, ...</td>\n",
       "      <td>qelncdmypn.mp4</td>\n",
       "      <td>2020-02-17</td>\n",
       "    </tr>\n",
       "  </tbody>\n",
       "</table>\n",
       "</div>"
      ],
      "text/plain": [
       "            index label      split  isVal  cv_fold  person_count  \\\n",
       "0  gmuagvvcen.mp4  FAKE  1st_level  False        3             1   \n",
       "1  nlbejgudfx.mp4  FAKE  1st_level  False        1             1   \n",
       "2  smptxlklxc.mp4  REAL  1st_level  False        0             1   \n",
       "3  xmodyeeaxr.mp4  FAKE  1st_level  False        1             1   \n",
       "4  hvxrsfgvyi.mp4  FAKE  1st_level  False        2             2   \n",
       "\n",
       "   first_person_label  second_person_label  \\\n",
       "0                 3.0                  NaN   \n",
       "1                 3.0                  NaN   \n",
       "2                 0.0                  NaN   \n",
       "3                 1.0                  NaN   \n",
       "4                 2.0                  0.0   \n",
       "\n",
       "                           first_person_frame_labels  \\\n",
       "0  [2, 2, 2, 2, 2, 2, 2, 2, 2, 2, 3, 2, 2, 2, 2, ...   \n",
       "1  [3, 3, 3, 3, 3, 3, 3, 3, 3, 3, 3, 3, 3, 3, 3, ...   \n",
       "2  [0, 0, 0, 0, 0, 0, 0, 0, 0, 0, 0, 0, 0, 0, 0, ...   \n",
       "3  [0, 0, 0, 0, 0, 0, 0, 0, 1, 0, 0, 0, 0, 1, 0, ...   \n",
       "4  [2, 2, 2, 2, 2, 2, 2, 2, 2, 2, 2, 2, 2, 2, 2, ...   \n",
       "\n",
       "                          second_person_frame_labels        original  \\\n",
       "0                                                NaN  xyioxposka.mp4   \n",
       "1                                                NaN  acguxjvmju.mp4   \n",
       "2                                                NaN             NaN   \n",
       "3                                                NaN  ptpwappdyx.mp4   \n",
       "4  [0, 0, 0, 0, 0, 0, 0, 0, 0, 0, 0, 0, 0, 0, 0, ...  qelncdmypn.mp4   \n",
       "\n",
       "      version  \n",
       "0  2020-02-17  \n",
       "1  2020-02-17  \n",
       "2  2020-02-17  \n",
       "3  2020-02-17  \n",
       "4  2020-02-17  "
      ]
     },
     "execution_count": 58,
     "metadata": {},
     "output_type": "execute_result"
    }
   ],
   "source": [
    "df_splits = pd.read_csv('../data/metadata_tr_val_split_folds.csv')\n",
    "df_splits.head()"
   ]
  },
  {
   "cell_type": "code",
   "execution_count": 59,
   "metadata": {},
   "outputs": [
    {
     "data": {
      "text/html": [
       "<div>\n",
       "<style scoped>\n",
       "    .dataframe tbody tr th:only-of-type {\n",
       "        vertical-align: middle;\n",
       "    }\n",
       "\n",
       "    .dataframe tbody tr th {\n",
       "        vertical-align: top;\n",
       "    }\n",
       "\n",
       "    .dataframe thead th {\n",
       "        text-align: right;\n",
       "    }\n",
       "</style>\n",
       "<table border=\"1\" class=\"dataframe\">\n",
       "  <thead>\n",
       "    <tr style=\"text-align: right;\">\n",
       "      <th></th>\n",
       "      <th>index</th>\n",
       "      <th>label</th>\n",
       "      <th>split</th>\n",
       "      <th>isVal</th>\n",
       "      <th>cv_fold</th>\n",
       "      <th>person_count</th>\n",
       "      <th>first_person_label</th>\n",
       "      <th>second_person_label</th>\n",
       "      <th>first_person_frame_labels</th>\n",
       "      <th>second_person_frame_labels</th>\n",
       "      <th>original</th>\n",
       "      <th>version</th>\n",
       "    </tr>\n",
       "  </thead>\n",
       "  <tbody>\n",
       "    <tr>\n",
       "      <th>0</th>\n",
       "      <td>gmuagvvcen.mp4</td>\n",
       "      <td>FAKE</td>\n",
       "      <td>1st_level</td>\n",
       "      <td>False</td>\n",
       "      <td>3</td>\n",
       "      <td>1</td>\n",
       "      <td>3.0</td>\n",
       "      <td>NaN</td>\n",
       "      <td>[2, 2, 2, 2, 2, 2, 2, 2, 2, 2, 3, 2, 2, 2, 2, ...</td>\n",
       "      <td>NaN</td>\n",
       "      <td>xyioxposka.mp4</td>\n",
       "      <td>2020-02-17</td>\n",
       "    </tr>\n",
       "    <tr>\n",
       "      <th>1</th>\n",
       "      <td>nlbejgudfx.mp4</td>\n",
       "      <td>FAKE</td>\n",
       "      <td>1st_level</td>\n",
       "      <td>False</td>\n",
       "      <td>1</td>\n",
       "      <td>1</td>\n",
       "      <td>3.0</td>\n",
       "      <td>NaN</td>\n",
       "      <td>[3, 3, 3, 3, 3, 3, 3, 3, 3, 3, 3, 3, 3, 3, 3, ...</td>\n",
       "      <td>NaN</td>\n",
       "      <td>acguxjvmju.mp4</td>\n",
       "      <td>2020-02-17</td>\n",
       "    </tr>\n",
       "    <tr>\n",
       "      <th>2</th>\n",
       "      <td>smptxlklxc.mp4</td>\n",
       "      <td>REAL</td>\n",
       "      <td>1st_level</td>\n",
       "      <td>False</td>\n",
       "      <td>0</td>\n",
       "      <td>1</td>\n",
       "      <td>0.0</td>\n",
       "      <td>NaN</td>\n",
       "      <td>[0, 0, 0, 0, 0, 0, 0, 0, 0, 0, 0, 0, 0, 0, 0, ...</td>\n",
       "      <td>NaN</td>\n",
       "      <td>NaN</td>\n",
       "      <td>2020-02-17</td>\n",
       "    </tr>\n",
       "    <tr>\n",
       "      <th>3</th>\n",
       "      <td>xmodyeeaxr.mp4</td>\n",
       "      <td>FAKE</td>\n",
       "      <td>1st_level</td>\n",
       "      <td>False</td>\n",
       "      <td>1</td>\n",
       "      <td>1</td>\n",
       "      <td>1.0</td>\n",
       "      <td>NaN</td>\n",
       "      <td>[0, 0, 0, 0, 1, 1, 1, 1, 1, 1, 1, 0, 0, 1, 1, ...</td>\n",
       "      <td>NaN</td>\n",
       "      <td>ptpwappdyx.mp4</td>\n",
       "      <td>2020-02-17</td>\n",
       "    </tr>\n",
       "    <tr>\n",
       "      <th>4</th>\n",
       "      <td>hvxrsfgvyi.mp4</td>\n",
       "      <td>FAKE</td>\n",
       "      <td>1st_level</td>\n",
       "      <td>False</td>\n",
       "      <td>2</td>\n",
       "      <td>2</td>\n",
       "      <td>2.0</td>\n",
       "      <td>0.0</td>\n",
       "      <td>[2, 2, 2, 2, 2, 2, 2, 2, 2, 2, 2, 2, 2, 2, 2, ...</td>\n",
       "      <td>[0, 0, 0, 0, 0, 0, 0, 0, 0, 0, 0, 0, 0, 0, 0, ...</td>\n",
       "      <td>qelncdmypn.mp4</td>\n",
       "      <td>2020-02-17</td>\n",
       "    </tr>\n",
       "  </tbody>\n",
       "</table>\n",
       "</div>"
      ],
      "text/plain": [
       "            index label      split  isVal  cv_fold  person_count  \\\n",
       "0  gmuagvvcen.mp4  FAKE  1st_level  False        3             1   \n",
       "1  nlbejgudfx.mp4  FAKE  1st_level  False        1             1   \n",
       "2  smptxlklxc.mp4  REAL  1st_level  False        0             1   \n",
       "3  xmodyeeaxr.mp4  FAKE  1st_level  False        1             1   \n",
       "4  hvxrsfgvyi.mp4  FAKE  1st_level  False        2             2   \n",
       "\n",
       "   first_person_label  second_person_label  \\\n",
       "0                 3.0                  NaN   \n",
       "1                 3.0                  NaN   \n",
       "2                 0.0                  NaN   \n",
       "3                 1.0                  NaN   \n",
       "4                 2.0                  0.0   \n",
       "\n",
       "                           first_person_frame_labels  \\\n",
       "0  [2, 2, 2, 2, 2, 2, 2, 2, 2, 2, 3, 2, 2, 2, 2, ...   \n",
       "1  [3, 3, 3, 3, 3, 3, 3, 3, 3, 3, 3, 3, 3, 3, 3, ...   \n",
       "2  [0, 0, 0, 0, 0, 0, 0, 0, 0, 0, 0, 0, 0, 0, 0, ...   \n",
       "3  [0, 0, 0, 0, 1, 1, 1, 1, 1, 1, 1, 0, 0, 1, 1, ...   \n",
       "4  [2, 2, 2, 2, 2, 2, 2, 2, 2, 2, 2, 2, 2, 2, 2, ...   \n",
       "\n",
       "                          second_person_frame_labels        original  \\\n",
       "0                                                NaN  xyioxposka.mp4   \n",
       "1                                                NaN  acguxjvmju.mp4   \n",
       "2                                                NaN             NaN   \n",
       "3                                                NaN  ptpwappdyx.mp4   \n",
       "4  [0, 0, 0, 0, 0, 0, 0, 0, 0, 0, 0, 0, 0, 0, 0, ...  qelncdmypn.mp4   \n",
       "\n",
       "      version  \n",
       "0  2020-02-17  \n",
       "1  2020-02-17  \n",
       "2  2020-02-17  \n",
       "3  2020-02-17  \n",
       "4  2020-02-17  "
      ]
     },
     "execution_count": 59,
     "metadata": {},
     "output_type": "execute_result"
    }
   ],
   "source": [
    "df_splits['first_person_frame_labels'] = df['first_person_frame_labels'].values\n",
    "df_splits['second_person_frame_labels'] = df['second_person_frame_labels'].values\n",
    "df_splits['first_person_label'] = df['first_person_label'].values\n",
    "df_splits['second_person_label'] = df['second_person_label'].values\n",
    "df_splits.head()"
   ]
  },
  {
   "cell_type": "code",
   "execution_count": 60,
   "metadata": {},
   "outputs": [],
   "source": [
    "# replace\n",
    "df_splits.to_csv('../data/metadata_tr_val_split_folds.csv', index=False)"
   ]
  },
  {
   "cell_type": "code",
   "execution_count": null,
   "metadata": {},
   "outputs": [],
   "source": []
  }
 ],
 "metadata": {
  "kernelspec": {
   "display_name": "Python 3",
   "language": "python",
   "name": "python3"
  },
  "language_info": {
   "codemirror_mode": {
    "name": "ipython",
    "version": 3
   },
   "file_extension": ".py",
   "mimetype": "text/x-python",
   "name": "python",
   "nbconvert_exporter": "python",
   "pygments_lexer": "ipython3",
   "version": "3.6.9"
  }
 },
 "nbformat": 4,
 "nbformat_minor": 4
}
