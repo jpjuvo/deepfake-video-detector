{
 "cells": [
  {
   "cell_type": "code",
   "execution_count": 2,
   "metadata": {},
   "outputs": [
    {
     "name": "stdout",
     "output_type": "stream",
     "text": [
      "Collecting pytube3\n",
      "  Downloading https://files.pythonhosted.org/packages/de/86/198092763646eac7abd2063192ab44ea44ad8fd6d6f3ad8586b38afcd52a/pytube3-9.6.4-py3-none-any.whl\n",
      "Collecting typing-extensions (from pytube3)\n",
      "  Downloading https://files.pythonhosted.org/packages/03/92/705fe8aca27678e01bbdd7738173b8e7df0088a2202c80352f664630d638/typing_extensions-3.7.4.1-py3-none-any.whl\n",
      "Installing collected packages: typing-extensions, pytube3\n",
      "Successfully installed pytube3-9.6.4 typing-extensions-3.7.4.1\n",
      "Collecting youtube-search\n",
      "  Downloading https://files.pythonhosted.org/packages/43/72/144d8d54f102d02e98f28bc0b9be7c4f3c45d6e3ce0d8d78bb44815263c0/youtube_search-0.1.3-py3-none-any.whl\n",
      "Collecting beautifulsoup4 (from youtube-search)\n",
      "  Downloading https://files.pythonhosted.org/packages/cb/a1/c698cf319e9cfed6b17376281bd0efc6bfc8465698f54170ef60a485ab5d/beautifulsoup4-4.8.2-py3-none-any.whl (106kB)\n",
      "\u001b[K    100% |████████████████████████████████| 112kB 3.4MB/s ta 0:00:01\n",
      "\u001b[?25hCollecting requests (from youtube-search)\n",
      "  Downloading https://files.pythonhosted.org/packages/1a/70/1935c770cb3be6e3a8b78ced23d7e0f3b187f5cbfab4749523ed65d7c9b1/requests-2.23.0-py2.py3-none-any.whl (58kB)\n",
      "\u001b[K    100% |████████████████████████████████| 61kB 8.0MB/s eta 0:00:01\n",
      "\u001b[?25hCollecting soupsieve>=1.2 (from beautifulsoup4->youtube-search)\n",
      "  Downloading https://files.pythonhosted.org/packages/05/cf/ea245e52f55823f19992447b008bcbb7f78efc5960d77f6c34b5b45b36dd/soupsieve-2.0-py2.py3-none-any.whl\n",
      "Collecting idna<3,>=2.5 (from requests->youtube-search)\n",
      "  Downloading https://files.pythonhosted.org/packages/89/e3/afebe61c546d18fb1709a61bee788254b40e736cff7271c7de5de2dc4128/idna-2.9-py2.py3-none-any.whl (58kB)\n",
      "\u001b[K    100% |████████████████████████████████| 61kB 6.8MB/s eta 0:00:01\n",
      "\u001b[?25hCollecting urllib3!=1.25.0,!=1.25.1,<1.26,>=1.21.1 (from requests->youtube-search)\n",
      "  Downloading https://files.pythonhosted.org/packages/e8/74/6e4f91745020f967d09332bb2b8b9b10090957334692eb88ea4afe91b77f/urllib3-1.25.8-py2.py3-none-any.whl (125kB)\n",
      "\u001b[K    100% |████████████████████████████████| 133kB 7.1MB/s eta 0:00:01\n",
      "\u001b[?25hCollecting certifi>=2017.4.17 (from requests->youtube-search)\n",
      "  Using cached https://files.pythonhosted.org/packages/b9/63/df50cac98ea0d5b006c55a399c3bf1db9da7b5a24de7890bc9cfd5dd9e99/certifi-2019.11.28-py2.py3-none-any.whl\n",
      "Collecting chardet<4,>=3.0.2 (from requests->youtube-search)\n",
      "  Using cached https://files.pythonhosted.org/packages/bc/a9/01ffebfb562e4274b6487b4bb1ddec7ca55ec7510b22e4c51f14098443b8/chardet-3.0.4-py2.py3-none-any.whl\n",
      "Installing collected packages: soupsieve, beautifulsoup4, idna, urllib3, certifi, chardet, requests, youtube-search\n",
      "Successfully installed beautifulsoup4-4.8.2 certifi-2019.11.28 chardet-3.0.4 idna-2.9 requests-2.23.0 soupsieve-2.0 urllib3-1.25.8 youtube-search-0.1.3\n"
     ]
    }
   ],
   "source": [
    "#!pip3 install pytube3 --upgrade\n",
    "#!pip3 install youtube-search"
   ]
  },
  {
   "cell_type": "code",
   "execution_count": 3,
   "metadata": {},
   "outputs": [],
   "source": [
    "import numpy as np\n",
    "import pandas as pd\n",
    "import json\n",
    "\n",
    "from pytube import YouTube\n",
    "from youtube_search import YoutubeSearch\n",
    "\n",
    "from pathlib import Path\n",
    "\n",
    "from tqdm.notebook import tqdm"
   ]
  },
  {
   "cell_type": "code",
   "execution_count": 4,
   "metadata": {},
   "outputs": [],
   "source": [
    "OUTPUT_PATH = \"../../DeepFake/youtube_cc/\"\n",
    "Path(OUTPUT_PATH).mkdir(parents=True, exist_ok=True)"
   ]
  },
  {
   "cell_type": "code",
   "execution_count": 5,
   "metadata": {},
   "outputs": [],
   "source": [
    "## Search results\n",
    "results = YoutubeSearch('deepfake,creativecommons', max_results=1000).to_json()"
   ]
  },
  {
   "cell_type": "code",
   "execution_count": 6,
   "metadata": {},
   "outputs": [
    {
     "data": {
      "text/html": [
       "<div>\n",
       "<style scoped>\n",
       "    .dataframe tbody tr th:only-of-type {\n",
       "        vertical-align: middle;\n",
       "    }\n",
       "\n",
       "    .dataframe tbody tr th {\n",
       "        vertical-align: top;\n",
       "    }\n",
       "\n",
       "    .dataframe thead th {\n",
       "        text-align: right;\n",
       "    }\n",
       "</style>\n",
       "<table border=\"1\" class=\"dataframe\">\n",
       "  <thead>\n",
       "    <tr style=\"text-align: right;\">\n",
       "      <th></th>\n",
       "      <th>title</th>\n",
       "      <th>link</th>\n",
       "      <th>id</th>\n",
       "    </tr>\n",
       "  </thead>\n",
       "  <tbody>\n",
       "    <tr>\n",
       "      <th>0</th>\n",
       "      <td>New technique for detecting deepfake videos</td>\n",
       "      <td>/watch?v=51uHNgmnLWI</td>\n",
       "      <td>51uHNgmnLWI</td>\n",
       "    </tr>\n",
       "    <tr>\n",
       "      <th>1</th>\n",
       "      <td>Tom Cruise as Iron Man in the MCU - DeepFake T...</td>\n",
       "      <td>/watch?v=iDM69UEyM3w</td>\n",
       "      <td>iDM69UEyM3w</td>\n",
       "    </tr>\n",
       "    <tr>\n",
       "      <th>2</th>\n",
       "      <td>Donald Trump | Mr. Bean Deepfake</td>\n",
       "      <td>/watch?v=MBWue1T_irk</td>\n",
       "      <td>MBWue1T_irk</td>\n",
       "    </tr>\n",
       "    <tr>\n",
       "      <th>3</th>\n",
       "      <td>DeepFake with DeepFaceLab and Python by Radosl...</td>\n",
       "      <td>/watch?v=fFDbTH7f67A</td>\n",
       "      <td>fFDbTH7f67A</td>\n",
       "    </tr>\n",
       "    <tr>\n",
       "      <th>4</th>\n",
       "      <td>Amazing DeepFake Putin replaces Kevin Spacey L...</td>\n",
       "      <td>/watch?v=8euP8iq6OCY</td>\n",
       "      <td>8euP8iq6OCY</td>\n",
       "    </tr>\n",
       "  </tbody>\n",
       "</table>\n",
       "</div>"
      ],
      "text/plain": [
       "                                               title                  link  \\\n",
       "0        New technique for detecting deepfake videos  /watch?v=51uHNgmnLWI   \n",
       "1  Tom Cruise as Iron Man in the MCU - DeepFake T...  /watch?v=iDM69UEyM3w   \n",
       "2                   Donald Trump | Mr. Bean Deepfake  /watch?v=MBWue1T_irk   \n",
       "3  DeepFake with DeepFaceLab and Python by Radosl...  /watch?v=fFDbTH7f67A   \n",
       "4  Amazing DeepFake Putin replaces Kevin Spacey L...  /watch?v=8euP8iq6OCY   \n",
       "\n",
       "            id  \n",
       "0  51uHNgmnLWI  \n",
       "1  iDM69UEyM3w  \n",
       "2  MBWue1T_irk  \n",
       "3  fFDbTH7f67A  \n",
       "4  8euP8iq6OCY  "
      ]
     },
     "execution_count": 6,
     "metadata": {},
     "output_type": "execute_result"
    }
   ],
   "source": [
    "## Results into dataframe\n",
    "results_df = pd.DataFrame(json.loads(results)['videos'])\n",
    "results_df.head()"
   ]
  },
  {
   "cell_type": "code",
   "execution_count": 7,
   "metadata": {},
   "outputs": [
    {
     "data": {
      "text/plain": [
       "array(['(2019)', '(Deepfake)', '(Eng)', '(Heath', 'Amazing', 'Android',\n",
       "       'Bean', 'Brendan', 'Brief', 'Chris', 'Cloning', 'Coach',\n",
       "       'Confidence', 'Court]', 'Cruise', \"D'Elia,\", 'Deep', 'DeepFaceLab',\n",
       "       'DeepFake', 'Deepfake', 'Deepfake:', 'Detecting', 'Devil',\n",
       "       'Donald', 'Episode', 'Exsiderurgica', 'Face', 'Fake', 'Fake,',\n",
       "       'Fakes', 'Fears', 'Final', 'Forensics', 'Frank', 'George', 'Haley',\n",
       "       'History', 'Images', 'Internet', 'Iron', 'Joel', 'John', 'Joker',\n",
       "       'Kevin', 'KineMaster', 'Ledger)', 'Leif', 'Lucas', 'Make', 'Media',\n",
       "       'Modi', 'Nedyalkov', 'Neural', 'News', 'Osment', 'Putin', 'Python',\n",
       "       'Quick', 'Radoslav', 'Reaction', 'Reacts', 'Rise', 'Rogan,',\n",
       "       'Schaub,', 'Skywalker', 'Soldering', 'Spacey', 'Spark/Tamil',\n",
       "       'Star', 'Swap', 'Theater', 'Theo', 'Time-Lapse]', 'Trailer',\n",
       "       'Trump', 'Tutorial', 'Unreliable', 'Video', 'Videos', 'Voice',\n",
       "       'Wars', 'Wick,', 'Wintergatan', 'Young', '[Circuit', '[DeepFake]',\n",
       "       '[EP001]', '[Sacred', 'christian', \"could...'\", 'deepfake',\n",
       "       'detecting', 'funny', 'impress', 'impression', 'joker', 'lady',\n",
       "       'replaces', 'technique', 'technology/First', 'through', 'trying',\n",
       "       'videos', 'voice', 'wish', 'with'], dtype='<U16')"
      ]
     },
     "execution_count": 7,
     "metadata": {},
     "output_type": "execute_result"
    }
   ],
   "source": [
    "## Title keyword analysis\n",
    "title_words = ' '.join(results_df.title).split()\n",
    "title_words = np.array([word for word in title_words if len(word)>3])\n",
    "np.unique(title_words)"
   ]
  },
  {
   "cell_type": "code",
   "execution_count": 8,
   "metadata": {},
   "outputs": [],
   "source": [
    "exclude_kwds = ['technique', 'detect', 'python', 'android',\n",
    "                'facebook', 'tutorial', 'confidence', 'clon(?:e|ing)',\n",
    "                'history', 'internet', 'voice'\n",
    "               ]"
   ]
  },
  {
   "cell_type": "code",
   "execution_count": 9,
   "metadata": {},
   "outputs": [
    {
     "data": {
      "text/html": [
       "<div>\n",
       "<style scoped>\n",
       "    .dataframe tbody tr th:only-of-type {\n",
       "        vertical-align: middle;\n",
       "    }\n",
       "\n",
       "    .dataframe tbody tr th {\n",
       "        vertical-align: top;\n",
       "    }\n",
       "\n",
       "    .dataframe thead th {\n",
       "        text-align: right;\n",
       "    }\n",
       "</style>\n",
       "<table border=\"1\" class=\"dataframe\">\n",
       "  <thead>\n",
       "    <tr style=\"text-align: right;\">\n",
       "      <th></th>\n",
       "      <th>title</th>\n",
       "      <th>link</th>\n",
       "      <th>id</th>\n",
       "    </tr>\n",
       "  </thead>\n",
       "  <tbody>\n",
       "    <tr>\n",
       "      <th>1</th>\n",
       "      <td>Tom Cruise as Iron Man in the MCU - DeepFake T...</td>\n",
       "      <td>/watch?v=iDM69UEyM3w</td>\n",
       "      <td>iDM69UEyM3w</td>\n",
       "    </tr>\n",
       "    <tr>\n",
       "      <th>2</th>\n",
       "      <td>Donald Trump | Mr. Bean Deepfake</td>\n",
       "      <td>/watch?v=MBWue1T_irk</td>\n",
       "      <td>MBWue1T_irk</td>\n",
       "    </tr>\n",
       "    <tr>\n",
       "      <th>4</th>\n",
       "      <td>Amazing DeepFake Putin replaces Kevin Spacey L...</td>\n",
       "      <td>/watch?v=8euP8iq6OCY</td>\n",
       "      <td>8euP8iq6OCY</td>\n",
       "    </tr>\n",
       "    <tr>\n",
       "      <th>7</th>\n",
       "      <td>George Lucas Reacts To Episode 9 Final Trailer...</td>\n",
       "      <td>/watch?v=tGUBDp5TLfw</td>\n",
       "      <td>tGUBDp5TLfw</td>\n",
       "    </tr>\n",
       "    <tr>\n",
       "      <th>9</th>\n",
       "      <td>Deepfake Videos</td>\n",
       "      <td>/watch?v=4N3Sd3Moy0s</td>\n",
       "      <td>4N3Sd3Moy0s</td>\n",
       "    </tr>\n",
       "    <tr>\n",
       "      <th>10</th>\n",
       "      <td>Exsiderurgica - Deepfake [Sacred Court]</td>\n",
       "      <td>/watch?v=nMOri5L5_bA</td>\n",
       "      <td>nMOri5L5_bA</td>\n",
       "    </tr>\n",
       "    <tr>\n",
       "      <th>13</th>\n",
       "      <td>[EP001] Deep Fake, John Wick, Wintergatan [Cir...</td>\n",
       "      <td>/watch?v=42kcoVVE_Fs</td>\n",
       "      <td>42kcoVVE_Fs</td>\n",
       "    </tr>\n",
       "    <tr>\n",
       "      <th>15</th>\n",
       "      <td>'I wish I could...' (2019)</td>\n",
       "      <td>/watch?v=3f66kBwfMto</td>\n",
       "      <td>3f66kBwfMto</td>\n",
       "    </tr>\n",
       "    <tr>\n",
       "      <th>16</th>\n",
       "      <td>Joker trying to impress a christian lady [Deep...</td>\n",
       "      <td>/watch?v=i4SlD1g7pj0</td>\n",
       "      <td>i4SlD1g7pj0</td>\n",
       "    </tr>\n",
       "    <tr>\n",
       "      <th>17</th>\n",
       "      <td>Young Haley Joel Osment on Old Haley Joel Osme...</td>\n",
       "      <td>/watch?v=DgbrDLzcS-0</td>\n",
       "      <td>DgbrDLzcS-0</td>\n",
       "    </tr>\n",
       "    <tr>\n",
       "      <th>19</th>\n",
       "      <td>Deepfake technology/First Spark/Tamil</td>\n",
       "      <td>/watch?v=RgcqaPkOjMw</td>\n",
       "      <td>RgcqaPkOjMw</td>\n",
       "    </tr>\n",
       "  </tbody>\n",
       "</table>\n",
       "</div>"
      ],
      "text/plain": [
       "                                                title                  link  \\\n",
       "1   Tom Cruise as Iron Man in the MCU - DeepFake T...  /watch?v=iDM69UEyM3w   \n",
       "2                    Donald Trump | Mr. Bean Deepfake  /watch?v=MBWue1T_irk   \n",
       "4   Amazing DeepFake Putin replaces Kevin Spacey L...  /watch?v=8euP8iq6OCY   \n",
       "7   George Lucas Reacts To Episode 9 Final Trailer...  /watch?v=tGUBDp5TLfw   \n",
       "9                                     Deepfake Videos  /watch?v=4N3Sd3Moy0s   \n",
       "10            Exsiderurgica - Deepfake [Sacred Court]  /watch?v=nMOri5L5_bA   \n",
       "13  [EP001] Deep Fake, John Wick, Wintergatan [Cir...  /watch?v=42kcoVVE_Fs   \n",
       "15                         'I wish I could...' (2019)  /watch?v=3f66kBwfMto   \n",
       "16  Joker trying to impress a christian lady [Deep...  /watch?v=i4SlD1g7pj0   \n",
       "17  Young Haley Joel Osment on Old Haley Joel Osme...  /watch?v=DgbrDLzcS-0   \n",
       "19              Deepfake technology/First Spark/Tamil  /watch?v=RgcqaPkOjMw   \n",
       "\n",
       "             id  \n",
       "1   iDM69UEyM3w  \n",
       "2   MBWue1T_irk  \n",
       "4   8euP8iq6OCY  \n",
       "7   tGUBDp5TLfw  \n",
       "9   4N3Sd3Moy0s  \n",
       "10  nMOri5L5_bA  \n",
       "13  42kcoVVE_Fs  \n",
       "15  3f66kBwfMto  \n",
       "16  i4SlD1g7pj0  \n",
       "17  DgbrDLzcS-0  \n",
       "19  RgcqaPkOjMw  "
      ]
     },
     "execution_count": 9,
     "metadata": {},
     "output_type": "execute_result"
    }
   ],
   "source": [
    "## Filter the results\n",
    "filtered_df = results_df[~results_df.title.str.contains(\"|\".join(exclude_kwds), case=False)]\n",
    "filtered_df"
   ]
  },
  {
   "cell_type": "code",
   "execution_count": 11,
   "metadata": {},
   "outputs": [
    {
     "data": {
      "application/vnd.jupyter.widget-view+json": {
       "model_id": "f298a1788e9c453dba55c220dfd6d411",
       "version_major": 2,
       "version_minor": 0
      },
      "text/plain": [
       "HBox(children=(FloatProgress(value=1.0, bar_style='info', max=1.0), HTML(value='')))"
      ]
     },
     "metadata": {},
     "output_type": "display_data"
    },
    {
     "name": "stdout",
     "output_type": "stream",
     "text": [
      "\n"
     ]
    }
   ],
   "source": [
    "## Download\n",
    "for _, row in tqdm(filtered_df.iterrows()):\n",
    "    link = \"http://youtube.com\"+row.link\n",
    "    YouTube(link).streams.get_highest_resolution().download(output_path=OUTPUT_PATH)"
   ]
  },
  {
   "cell_type": "code",
   "execution_count": null,
   "metadata": {},
   "outputs": [],
   "source": []
  }
 ],
 "metadata": {
  "kernelspec": {
   "display_name": "Python 3",
   "language": "python",
   "name": "python3"
  },
  "language_info": {
   "codemirror_mode": {
    "name": "ipython",
    "version": 3
   },
   "file_extension": ".py",
   "mimetype": "text/x-python",
   "name": "python",
   "nbconvert_exporter": "python",
   "pygments_lexer": "ipython3",
   "version": "3.6.9"
  }
 },
 "nbformat": 4,
 "nbformat_minor": 4
}
